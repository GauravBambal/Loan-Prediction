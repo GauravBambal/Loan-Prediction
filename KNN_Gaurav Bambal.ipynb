{
 "cells": [
  {
   "cell_type": "code",
   "execution_count": 1,
   "metadata": {
    "id": "iZE0TVaQYYMt"
   },
   "outputs": [],
   "source": [
    "import numpy as np\n",
    "import pandas as pd\n",
    "import matplotlib.pyplot as plt\n",
    "%matplotlib inline\n",
    "import seaborn as sns\n",
    "\n",
    "import warnings\n",
    "warnings.filterwarnings('ignore')"
   ]
  },
  {
   "cell_type": "markdown",
   "metadata": {
    "id": "GbHqdYax8cIE"
   },
   "source": [
    "# **DATA EXPLORATION AND CLEANING**"
   ]
  },
  {
   "cell_type": "code",
   "execution_count": 2,
   "metadata": {
    "id": "_7I6MHv1bRQi"
   },
   "outputs": [],
   "source": [
    "MSB_df=pd.read_csv('LoanExport.csv') \n",
    "MSB_df = MSB_df.replace(r'^\\s*$ ', np.nan, regex=True)"
   ]
  },
  {
   "cell_type": "code",
   "execution_count": 3,
   "metadata": {
    "colab": {
     "base_uri": "https://localhost:8080/",
     "height": 437
    },
    "id": "m3U2rgbiepGC",
    "outputId": "421bb377-50c8-4bcc-8787-fe9dfc40695a"
   },
   "outputs": [
    {
     "data": {
      "text/html": [
       "<div>\n",
       "<style scoped>\n",
       "    .dataframe tbody tr th:only-of-type {\n",
       "        vertical-align: middle;\n",
       "    }\n",
       "\n",
       "    .dataframe tbody tr th {\n",
       "        vertical-align: top;\n",
       "    }\n",
       "\n",
       "    .dataframe thead th {\n",
       "        text-align: right;\n",
       "    }\n",
       "</style>\n",
       "<table border=\"1\" class=\"dataframe\">\n",
       "  <thead>\n",
       "    <tr style=\"text-align: right;\">\n",
       "      <th></th>\n",
       "      <th>CreditScore</th>\n",
       "      <th>FirstPaymentDate</th>\n",
       "      <th>FirstTimeHomebuyer</th>\n",
       "      <th>MaturityDate</th>\n",
       "      <th>MSA</th>\n",
       "      <th>MIP</th>\n",
       "      <th>Units</th>\n",
       "      <th>Occupancy</th>\n",
       "      <th>OCLTV</th>\n",
       "      <th>DTI</th>\n",
       "      <th>...</th>\n",
       "      <th>PostalCode</th>\n",
       "      <th>LoanSeqNum</th>\n",
       "      <th>LoanPurpose</th>\n",
       "      <th>OrigLoanTerm</th>\n",
       "      <th>NumBorrowers</th>\n",
       "      <th>SellerName</th>\n",
       "      <th>ServicerName</th>\n",
       "      <th>EverDelinquent</th>\n",
       "      <th>MonthsDelinquent</th>\n",
       "      <th>MonthsInRepayment</th>\n",
       "    </tr>\n",
       "  </thead>\n",
       "  <tbody>\n",
       "    <tr>\n",
       "      <th>0</th>\n",
       "      <td>0</td>\n",
       "      <td>199902</td>\n",
       "      <td>N</td>\n",
       "      <td>202901</td>\n",
       "      <td>16974</td>\n",
       "      <td>25</td>\n",
       "      <td>1</td>\n",
       "      <td>O</td>\n",
       "      <td>89</td>\n",
       "      <td>27</td>\n",
       "      <td>...</td>\n",
       "      <td>60400</td>\n",
       "      <td>F199Q1268030</td>\n",
       "      <td>P</td>\n",
       "      <td>360</td>\n",
       "      <td>2</td>\n",
       "      <td>FL</td>\n",
       "      <td>WASHINGTONMUTUALBANK</td>\n",
       "      <td>0</td>\n",
       "      <td>0</td>\n",
       "      <td>52</td>\n",
       "    </tr>\n",
       "    <tr>\n",
       "      <th>1</th>\n",
       "      <td>0</td>\n",
       "      <td>199902</td>\n",
       "      <td>N</td>\n",
       "      <td>202901</td>\n",
       "      <td>19740</td>\n",
       "      <td>0</td>\n",
       "      <td>1</td>\n",
       "      <td>O</td>\n",
       "      <td>73</td>\n",
       "      <td>17</td>\n",
       "      <td>...</td>\n",
       "      <td>80200</td>\n",
       "      <td>F199Q1015092</td>\n",
       "      <td>N</td>\n",
       "      <td>360</td>\n",
       "      <td>1</td>\n",
       "      <td>FT</td>\n",
       "      <td>CHASEHOMEFINANCELLC</td>\n",
       "      <td>0</td>\n",
       "      <td>0</td>\n",
       "      <td>144</td>\n",
       "    </tr>\n",
       "    <tr>\n",
       "      <th>2</th>\n",
       "      <td>0</td>\n",
       "      <td>199902</td>\n",
       "      <td>N</td>\n",
       "      <td>202901</td>\n",
       "      <td>29940</td>\n",
       "      <td>0</td>\n",
       "      <td>1</td>\n",
       "      <td>O</td>\n",
       "      <td>75</td>\n",
       "      <td>16</td>\n",
       "      <td>...</td>\n",
       "      <td>66000</td>\n",
       "      <td>F199Q1266886</td>\n",
       "      <td>N</td>\n",
       "      <td>360</td>\n",
       "      <td>2</td>\n",
       "      <td>FL</td>\n",
       "      <td>WASHINGTONMUTUALBANK</td>\n",
       "      <td>0</td>\n",
       "      <td>0</td>\n",
       "      <td>67</td>\n",
       "    </tr>\n",
       "    <tr>\n",
       "      <th>3</th>\n",
       "      <td>0</td>\n",
       "      <td>199902</td>\n",
       "      <td>N</td>\n",
       "      <td>202901</td>\n",
       "      <td>31084</td>\n",
       "      <td>0</td>\n",
       "      <td>1</td>\n",
       "      <td>O</td>\n",
       "      <td>76</td>\n",
       "      <td>14</td>\n",
       "      <td>...</td>\n",
       "      <td>90700</td>\n",
       "      <td>F199Q1178167</td>\n",
       "      <td>N</td>\n",
       "      <td>360</td>\n",
       "      <td>2</td>\n",
       "      <td>GM</td>\n",
       "      <td>GMACMTGECORP</td>\n",
       "      <td>0</td>\n",
       "      <td>0</td>\n",
       "      <td>35</td>\n",
       "    </tr>\n",
       "    <tr>\n",
       "      <th>4</th>\n",
       "      <td>0</td>\n",
       "      <td>199902</td>\n",
       "      <td>N</td>\n",
       "      <td>202901</td>\n",
       "      <td>35644</td>\n",
       "      <td>0</td>\n",
       "      <td>1</td>\n",
       "      <td>O</td>\n",
       "      <td>78</td>\n",
       "      <td>18</td>\n",
       "      <td>...</td>\n",
       "      <td>7600</td>\n",
       "      <td>F199Q1178517</td>\n",
       "      <td>N</td>\n",
       "      <td>360</td>\n",
       "      <td>2</td>\n",
       "      <td>GM</td>\n",
       "      <td>GMACMTGECORP</td>\n",
       "      <td>0</td>\n",
       "      <td>0</td>\n",
       "      <td>54</td>\n",
       "    </tr>\n",
       "    <tr>\n",
       "      <th>...</th>\n",
       "      <td>...</td>\n",
       "      <td>...</td>\n",
       "      <td>...</td>\n",
       "      <td>...</td>\n",
       "      <td>...</td>\n",
       "      <td>...</td>\n",
       "      <td>...</td>\n",
       "      <td>...</td>\n",
       "      <td>...</td>\n",
       "      <td>...</td>\n",
       "      <td>...</td>\n",
       "      <td>...</td>\n",
       "      <td>...</td>\n",
       "      <td>...</td>\n",
       "      <td>...</td>\n",
       "      <td>...</td>\n",
       "      <td>...</td>\n",
       "      <td>...</td>\n",
       "      <td>...</td>\n",
       "      <td>...</td>\n",
       "      <td>...</td>\n",
       "    </tr>\n",
       "    <tr>\n",
       "      <th>291446</th>\n",
       "      <td>839</td>\n",
       "      <td>199903</td>\n",
       "      <td>N</td>\n",
       "      <td>202902</td>\n",
       "      <td>37964</td>\n",
       "      <td>0</td>\n",
       "      <td>1</td>\n",
       "      <td>O</td>\n",
       "      <td>60</td>\n",
       "      <td>32</td>\n",
       "      <td>...</td>\n",
       "      <td>19400</td>\n",
       "      <td>F199Q1220925</td>\n",
       "      <td>N</td>\n",
       "      <td>360</td>\n",
       "      <td>2</td>\n",
       "      <td>Ot</td>\n",
       "      <td>Other servicers</td>\n",
       "      <td>0</td>\n",
       "      <td>0</td>\n",
       "      <td>12</td>\n",
       "    </tr>\n",
       "    <tr>\n",
       "      <th>291447</th>\n",
       "      <td>840</td>\n",
       "      <td>200210</td>\n",
       "      <td>N</td>\n",
       "      <td>202904</td>\n",
       "      <td>35644</td>\n",
       "      <td>0</td>\n",
       "      <td>1</td>\n",
       "      <td>O</td>\n",
       "      <td>73</td>\n",
       "      <td>0</td>\n",
       "      <td>...</td>\n",
       "      <td>11600</td>\n",
       "      <td>F199Q1401332</td>\n",
       "      <td>P</td>\n",
       "      <td>319</td>\n",
       "      <td>2</td>\n",
       "      <td>Ot</td>\n",
       "      <td>Other servicers</td>\n",
       "      <td>0</td>\n",
       "      <td>0</td>\n",
       "      <td>53</td>\n",
       "    </tr>\n",
       "    <tr>\n",
       "      <th>291448</th>\n",
       "      <td>840</td>\n",
       "      <td>200304</td>\n",
       "      <td>N</td>\n",
       "      <td>202904</td>\n",
       "      <td>42044</td>\n",
       "      <td>0</td>\n",
       "      <td>1</td>\n",
       "      <td>O</td>\n",
       "      <td>73</td>\n",
       "      <td>31</td>\n",
       "      <td>...</td>\n",
       "      <td>92800</td>\n",
       "      <td>F199Q1401282</td>\n",
       "      <td>N</td>\n",
       "      <td>313</td>\n",
       "      <td>1</td>\n",
       "      <td>Ot</td>\n",
       "      <td>Other servicers</td>\n",
       "      <td>0</td>\n",
       "      <td>0</td>\n",
       "      <td>38</td>\n",
       "    </tr>\n",
       "    <tr>\n",
       "      <th>291449</th>\n",
       "      <td>845</td>\n",
       "      <td>199904</td>\n",
       "      <td>N</td>\n",
       "      <td>202903</td>\n",
       "      <td>37964</td>\n",
       "      <td>0</td>\n",
       "      <td>1</td>\n",
       "      <td>I</td>\n",
       "      <td>80</td>\n",
       "      <td>54</td>\n",
       "      <td>...</td>\n",
       "      <td>19300</td>\n",
       "      <td>F199Q1220924</td>\n",
       "      <td>P</td>\n",
       "      <td>360</td>\n",
       "      <td>2</td>\n",
       "      <td>Ot</td>\n",
       "      <td>Other servicers</td>\n",
       "      <td>0</td>\n",
       "      <td>0</td>\n",
       "      <td>32</td>\n",
       "    </tr>\n",
       "    <tr>\n",
       "      <th>291450</th>\n",
       "      <td>849</td>\n",
       "      <td>199903</td>\n",
       "      <td>N</td>\n",
       "      <td>202902</td>\n",
       "      <td>37964</td>\n",
       "      <td>0</td>\n",
       "      <td>1</td>\n",
       "      <td>O</td>\n",
       "      <td>47</td>\n",
       "      <td>29</td>\n",
       "      <td>...</td>\n",
       "      <td>18900</td>\n",
       "      <td>F199Q1220923</td>\n",
       "      <td>P</td>\n",
       "      <td>360</td>\n",
       "      <td>2</td>\n",
       "      <td>Ot</td>\n",
       "      <td>Other servicers</td>\n",
       "      <td>0</td>\n",
       "      <td>0</td>\n",
       "      <td>29</td>\n",
       "    </tr>\n",
       "  </tbody>\n",
       "</table>\n",
       "<p>291451 rows × 28 columns</p>\n",
       "</div>"
      ],
      "text/plain": [
       "        CreditScore  FirstPaymentDate FirstTimeHomebuyer  MaturityDate    MSA  \\\n",
       "0                 0            199902                  N        202901  16974   \n",
       "1                 0            199902                  N        202901  19740   \n",
       "2                 0            199902                  N        202901  29940   \n",
       "3                 0            199902                  N        202901  31084   \n",
       "4                 0            199902                  N        202901  35644   \n",
       "...             ...               ...                ...           ...    ...   \n",
       "291446          839            199903                  N        202902  37964   \n",
       "291447          840            200210                  N        202904  35644   \n",
       "291448          840            200304                  N        202904  42044   \n",
       "291449          845            199904                  N        202903  37964   \n",
       "291450          849            199903                  N        202902  37964   \n",
       "\n",
       "        MIP  Units Occupancy  OCLTV  DTI  ...  PostalCode    LoanSeqNum  \\\n",
       "0        25      1         O     89   27  ...       60400  F199Q1268030   \n",
       "1         0      1         O     73   17  ...       80200  F199Q1015092   \n",
       "2         0      1         O     75   16  ...       66000  F199Q1266886   \n",
       "3         0      1         O     76   14  ...       90700  F199Q1178167   \n",
       "4         0      1         O     78   18  ...        7600  F199Q1178517   \n",
       "...     ...    ...       ...    ...  ...  ...         ...           ...   \n",
       "291446    0      1         O     60   32  ...       19400  F199Q1220925   \n",
       "291447    0      1         O     73    0  ...       11600  F199Q1401332   \n",
       "291448    0      1         O     73   31  ...       92800  F199Q1401282   \n",
       "291449    0      1         I     80   54  ...       19300  F199Q1220924   \n",
       "291450    0      1         O     47   29  ...       18900  F199Q1220923   \n",
       "\n",
       "        LoanPurpose OrigLoanTerm NumBorrowers SellerName  \\\n",
       "0                 P          360            2         FL   \n",
       "1                 N          360            1         FT   \n",
       "2                 N          360            2         FL   \n",
       "3                 N          360            2         GM   \n",
       "4                 N          360            2         GM   \n",
       "...             ...          ...          ...        ...   \n",
       "291446            N          360            2         Ot   \n",
       "291447            P          319            2         Ot   \n",
       "291448            N          313            1         Ot   \n",
       "291449            P          360            2         Ot   \n",
       "291450            P          360            2         Ot   \n",
       "\n",
       "                ServicerName EverDelinquent MonthsDelinquent MonthsInRepayment  \n",
       "0       WASHINGTONMUTUALBANK              0                0                52  \n",
       "1       CHASEHOMEFINANCELLC               0                0               144  \n",
       "2       WASHINGTONMUTUALBANK              0                0                67  \n",
       "3       GMACMTGECORP                      0                0                35  \n",
       "4       GMACMTGECORP                      0                0                54  \n",
       "...                      ...            ...              ...               ...  \n",
       "291446  Other servicers                   0                0                12  \n",
       "291447  Other servicers                   0                0                53  \n",
       "291448  Other servicers                   0                0                38  \n",
       "291449  Other servicers                   0                0                32  \n",
       "291450  Other servicers                   0                0                29  \n",
       "\n",
       "[291451 rows x 28 columns]"
      ]
     },
     "execution_count": 3,
     "metadata": {},
     "output_type": "execute_result"
    }
   ],
   "source": [
    "MSB_df"
   ]
  },
  {
   "cell_type": "code",
   "execution_count": 4,
   "metadata": {
    "colab": {
     "base_uri": "https://localhost:8080/"
    },
    "id": "e4IRQHqvgqyB",
    "outputId": "75513090-5e48-4e8f-ec74-faed56a3f6d3"
   },
   "outputs": [
    {
     "data": {
      "text/plain": [
       "2"
      ]
     },
     "execution_count": 4,
     "metadata": {},
     "output_type": "execute_result"
    }
   ],
   "source": [
    "MSB_df.ndim"
   ]
  },
  {
   "cell_type": "code",
   "execution_count": 5,
   "metadata": {
    "colab": {
     "base_uri": "https://localhost:8080/"
    },
    "id": "WGN4DHTpop0A",
    "outputId": "8390de1c-9355-4f63-f6e7-9ce6a15d1ade"
   },
   "outputs": [
    {
     "data": {
      "text/plain": [
       "(291451, 28)"
      ]
     },
     "execution_count": 5,
     "metadata": {},
     "output_type": "execute_result"
    }
   ],
   "source": [
    "MSB_df.shape"
   ]
  },
  {
   "cell_type": "code",
   "execution_count": 6,
   "metadata": {
    "colab": {
     "base_uri": "https://localhost:8080/"
    },
    "id": "uMdKpStoqflj",
    "outputId": "93921917-04fa-493f-cd68-f195ba9c4b4a"
   },
   "outputs": [
    {
     "data": {
      "text/plain": [
       "<bound method DataFrame.info of         CreditScore  FirstPaymentDate FirstTimeHomebuyer  MaturityDate    MSA  \\\n",
       "0                 0            199902                  N        202901  16974   \n",
       "1                 0            199902                  N        202901  19740   \n",
       "2                 0            199902                  N        202901  29940   \n",
       "3                 0            199902                  N        202901  31084   \n",
       "4                 0            199902                  N        202901  35644   \n",
       "...             ...               ...                ...           ...    ...   \n",
       "291446          839            199903                  N        202902  37964   \n",
       "291447          840            200210                  N        202904  35644   \n",
       "291448          840            200304                  N        202904  42044   \n",
       "291449          845            199904                  N        202903  37964   \n",
       "291450          849            199903                  N        202902  37964   \n",
       "\n",
       "        MIP  Units Occupancy  OCLTV  DTI  ...  PostalCode    LoanSeqNum  \\\n",
       "0        25      1         O     89   27  ...       60400  F199Q1268030   \n",
       "1         0      1         O     73   17  ...       80200  F199Q1015092   \n",
       "2         0      1         O     75   16  ...       66000  F199Q1266886   \n",
       "3         0      1         O     76   14  ...       90700  F199Q1178167   \n",
       "4         0      1         O     78   18  ...        7600  F199Q1178517   \n",
       "...     ...    ...       ...    ...  ...  ...         ...           ...   \n",
       "291446    0      1         O     60   32  ...       19400  F199Q1220925   \n",
       "291447    0      1         O     73    0  ...       11600  F199Q1401332   \n",
       "291448    0      1         O     73   31  ...       92800  F199Q1401282   \n",
       "291449    0      1         I     80   54  ...       19300  F199Q1220924   \n",
       "291450    0      1         O     47   29  ...       18900  F199Q1220923   \n",
       "\n",
       "        LoanPurpose OrigLoanTerm NumBorrowers SellerName  \\\n",
       "0                 P          360            2         FL   \n",
       "1                 N          360            1         FT   \n",
       "2                 N          360            2         FL   \n",
       "3                 N          360            2         GM   \n",
       "4                 N          360            2         GM   \n",
       "...             ...          ...          ...        ...   \n",
       "291446            N          360            2         Ot   \n",
       "291447            P          319            2         Ot   \n",
       "291448            N          313            1         Ot   \n",
       "291449            P          360            2         Ot   \n",
       "291450            P          360            2         Ot   \n",
       "\n",
       "                ServicerName EverDelinquent MonthsDelinquent MonthsInRepayment  \n",
       "0       WASHINGTONMUTUALBANK              0                0                52  \n",
       "1       CHASEHOMEFINANCELLC               0                0               144  \n",
       "2       WASHINGTONMUTUALBANK              0                0                67  \n",
       "3       GMACMTGECORP                      0                0                35  \n",
       "4       GMACMTGECORP                      0                0                54  \n",
       "...                      ...            ...              ...               ...  \n",
       "291446  Other servicers                   0                0                12  \n",
       "291447  Other servicers                   0                0                53  \n",
       "291448  Other servicers                   0                0                38  \n",
       "291449  Other servicers                   0                0                32  \n",
       "291450  Other servicers                   0                0                29  \n",
       "\n",
       "[291451 rows x 28 columns]>"
      ]
     },
     "execution_count": 6,
     "metadata": {},
     "output_type": "execute_result"
    }
   ],
   "source": [
    "MSB_df.info"
   ]
  },
  {
   "cell_type": "code",
   "execution_count": 7,
   "metadata": {
    "colab": {
     "base_uri": "https://localhost:8080/"
    },
    "id": "1BxzalmTqwV_",
    "outputId": "aeefff12-4710-4194-c761-0922d1f0bc16"
   },
   "outputs": [
    {
     "name": "stdout",
     "output_type": "stream",
     "text": [
      "<class 'pandas.core.frame.DataFrame'>\n",
      "RangeIndex: 291451 entries, 0 to 291450\n",
      "Data columns (total 28 columns):\n",
      " #   Column              Non-Null Count   Dtype  \n",
      "---  ------              --------------   -----  \n",
      " 0   CreditScore         291451 non-null  int64  \n",
      " 1   FirstPaymentDate    291451 non-null  int64  \n",
      " 2   FirstTimeHomebuyer  291451 non-null  object \n",
      " 3   MaturityDate        291451 non-null  int64  \n",
      " 4   MSA                 291451 non-null  object \n",
      " 5   MIP                 291451 non-null  int64  \n",
      " 6   Units               291451 non-null  int64  \n",
      " 7   Occupancy           291451 non-null  object \n",
      " 8   OCLTV               291451 non-null  int64  \n",
      " 9   DTI                 291451 non-null  int64  \n",
      " 10  OrigUPB             291451 non-null  int64  \n",
      " 11  LTV                 291451 non-null  int64  \n",
      " 12  OrigInterestRate    291451 non-null  float64\n",
      " 13  Channel             291451 non-null  object \n",
      " 14  PPM                 291451 non-null  object \n",
      " 15  ProductType         291451 non-null  object \n",
      " 16  PropertyState       291451 non-null  object \n",
      " 17  PropertyType        291451 non-null  object \n",
      " 18  PostalCode          291451 non-null  object \n",
      " 19  LoanSeqNum          291451 non-null  object \n",
      " 20  LoanPurpose         291451 non-null  object \n",
      " 21  OrigLoanTerm        291451 non-null  int64  \n",
      " 22  NumBorrowers        291451 non-null  object \n",
      " 23  SellerName          266457 non-null  object \n",
      " 24  ServicerName        291451 non-null  object \n",
      " 25  EverDelinquent      291451 non-null  int64  \n",
      " 26  MonthsDelinquent    291451 non-null  int64  \n",
      " 27  MonthsInRepayment   291451 non-null  int64  \n",
      "dtypes: float64(1), int64(13), object(14)\n",
      "memory usage: 62.3+ MB\n"
     ]
    }
   ],
   "source": [
    "MSB_df.info()"
   ]
  },
  {
   "cell_type": "code",
   "execution_count": 8,
   "metadata": {
    "id": "kQ3AmyDJzFg5"
   },
   "outputs": [],
   "source": [
    "#Deleting unnecessary features\n",
    "to_drop=['FirstPaymentDate','MaturityDate','MSA','Units','Occupancy','OrigUPB','Channel','ProductType',\n",
    "         'PropertyState','PropertyType','PostalCode','LoanSeqNum','LoanPurpose','SellerName','ServicerName']\n",
    "MSB_df.drop(to_drop, inplace=True, axis=1)"
   ]
  },
  {
   "cell_type": "code",
   "execution_count": 9,
   "metadata": {
    "colab": {
     "base_uri": "https://localhost:8080/",
     "height": 223
    },
    "id": "27g-Bbgd101y",
    "outputId": "89d239ed-ed11-4f85-82eb-aaf058f56fef"
   },
   "outputs": [
    {
     "data": {
      "text/html": [
       "<div>\n",
       "<style scoped>\n",
       "    .dataframe tbody tr th:only-of-type {\n",
       "        vertical-align: middle;\n",
       "    }\n",
       "\n",
       "    .dataframe tbody tr th {\n",
       "        vertical-align: top;\n",
       "    }\n",
       "\n",
       "    .dataframe thead th {\n",
       "        text-align: right;\n",
       "    }\n",
       "</style>\n",
       "<table border=\"1\" class=\"dataframe\">\n",
       "  <thead>\n",
       "    <tr style=\"text-align: right;\">\n",
       "      <th></th>\n",
       "      <th>CreditScore</th>\n",
       "      <th>FirstTimeHomebuyer</th>\n",
       "      <th>MIP</th>\n",
       "      <th>OCLTV</th>\n",
       "      <th>DTI</th>\n",
       "      <th>LTV</th>\n",
       "      <th>OrigInterestRate</th>\n",
       "      <th>PPM</th>\n",
       "      <th>OrigLoanTerm</th>\n",
       "      <th>NumBorrowers</th>\n",
       "      <th>EverDelinquent</th>\n",
       "      <th>MonthsDelinquent</th>\n",
       "      <th>MonthsInRepayment</th>\n",
       "    </tr>\n",
       "  </thead>\n",
       "  <tbody>\n",
       "    <tr>\n",
       "      <th>0</th>\n",
       "      <td>0</td>\n",
       "      <td>N</td>\n",
       "      <td>25</td>\n",
       "      <td>89</td>\n",
       "      <td>27</td>\n",
       "      <td>89</td>\n",
       "      <td>6.750</td>\n",
       "      <td>N</td>\n",
       "      <td>360</td>\n",
       "      <td>2</td>\n",
       "      <td>0</td>\n",
       "      <td>0</td>\n",
       "      <td>52</td>\n",
       "    </tr>\n",
       "    <tr>\n",
       "      <th>1</th>\n",
       "      <td>0</td>\n",
       "      <td>N</td>\n",
       "      <td>0</td>\n",
       "      <td>73</td>\n",
       "      <td>17</td>\n",
       "      <td>73</td>\n",
       "      <td>6.500</td>\n",
       "      <td>N</td>\n",
       "      <td>360</td>\n",
       "      <td>1</td>\n",
       "      <td>0</td>\n",
       "      <td>0</td>\n",
       "      <td>144</td>\n",
       "    </tr>\n",
       "    <tr>\n",
       "      <th>2</th>\n",
       "      <td>0</td>\n",
       "      <td>N</td>\n",
       "      <td>0</td>\n",
       "      <td>75</td>\n",
       "      <td>16</td>\n",
       "      <td>75</td>\n",
       "      <td>6.875</td>\n",
       "      <td>N</td>\n",
       "      <td>360</td>\n",
       "      <td>2</td>\n",
       "      <td>0</td>\n",
       "      <td>0</td>\n",
       "      <td>67</td>\n",
       "    </tr>\n",
       "    <tr>\n",
       "      <th>3</th>\n",
       "      <td>0</td>\n",
       "      <td>N</td>\n",
       "      <td>0</td>\n",
       "      <td>76</td>\n",
       "      <td>14</td>\n",
       "      <td>76</td>\n",
       "      <td>6.875</td>\n",
       "      <td>N</td>\n",
       "      <td>360</td>\n",
       "      <td>2</td>\n",
       "      <td>0</td>\n",
       "      <td>0</td>\n",
       "      <td>35</td>\n",
       "    </tr>\n",
       "    <tr>\n",
       "      <th>4</th>\n",
       "      <td>0</td>\n",
       "      <td>N</td>\n",
       "      <td>0</td>\n",
       "      <td>78</td>\n",
       "      <td>18</td>\n",
       "      <td>78</td>\n",
       "      <td>7.125</td>\n",
       "      <td>N</td>\n",
       "      <td>360</td>\n",
       "      <td>2</td>\n",
       "      <td>0</td>\n",
       "      <td>0</td>\n",
       "      <td>54</td>\n",
       "    </tr>\n",
       "  </tbody>\n",
       "</table>\n",
       "</div>"
      ],
      "text/plain": [
       "   CreditScore FirstTimeHomebuyer  MIP  OCLTV  DTI  LTV  OrigInterestRate PPM  \\\n",
       "0            0                  N   25     89   27   89             6.750   N   \n",
       "1            0                  N    0     73   17   73             6.500   N   \n",
       "2            0                  N    0     75   16   75             6.875   N   \n",
       "3            0                  N    0     76   14   76             6.875   N   \n",
       "4            0                  N    0     78   18   78             7.125   N   \n",
       "\n",
       "   OrigLoanTerm NumBorrowers  EverDelinquent  MonthsDelinquent  \\\n",
       "0           360            2               0                 0   \n",
       "1           360            1               0                 0   \n",
       "2           360            2               0                 0   \n",
       "3           360            2               0                 0   \n",
       "4           360            2               0                 0   \n",
       "\n",
       "   MonthsInRepayment  \n",
       "0                 52  \n",
       "1                144  \n",
       "2                 67  \n",
       "3                 35  \n",
       "4                 54  "
      ]
     },
     "execution_count": 9,
     "metadata": {},
     "output_type": "execute_result"
    }
   ],
   "source": [
    "MSB_df.head()"
   ]
  },
  {
   "cell_type": "code",
   "execution_count": 10,
   "metadata": {
    "colab": {
     "base_uri": "https://localhost:8080/"
    },
    "id": "5rJkQ2N_9ING",
    "outputId": "869c7853-d940-47a9-fe4d-953ef22bcccb"
   },
   "outputs": [
    {
     "data": {
      "text/plain": [
       "(291451, 13)"
      ]
     },
     "execution_count": 10,
     "metadata": {},
     "output_type": "execute_result"
    }
   ],
   "source": [
    "MSB_df.shape"
   ]
  },
  {
   "cell_type": "code",
   "execution_count": 11,
   "metadata": {
    "colab": {
     "base_uri": "https://localhost:8080/"
    },
    "id": "HvEFURAn2KY9",
    "outputId": "e2937487-9bdc-4509-e3f8-c3b5e299975c"
   },
   "outputs": [
    {
     "name": "stdout",
     "output_type": "stream",
     "text": [
      "<class 'pandas.core.frame.DataFrame'>\n",
      "RangeIndex: 291451 entries, 0 to 291450\n",
      "Data columns (total 13 columns):\n",
      " #   Column              Non-Null Count   Dtype  \n",
      "---  ------              --------------   -----  \n",
      " 0   CreditScore         291451 non-null  int64  \n",
      " 1   FirstTimeHomebuyer  291451 non-null  object \n",
      " 2   MIP                 291451 non-null  int64  \n",
      " 3   OCLTV               291451 non-null  int64  \n",
      " 4   DTI                 291451 non-null  int64  \n",
      " 5   LTV                 291451 non-null  int64  \n",
      " 6   OrigInterestRate    291451 non-null  float64\n",
      " 7   PPM                 291451 non-null  object \n",
      " 8   OrigLoanTerm        291451 non-null  int64  \n",
      " 9   NumBorrowers        291451 non-null  object \n",
      " 10  EverDelinquent      291451 non-null  int64  \n",
      " 11  MonthsDelinquent    291451 non-null  int64  \n",
      " 12  MonthsInRepayment   291451 non-null  int64  \n",
      "dtypes: float64(1), int64(9), object(3)\n",
      "memory usage: 28.9+ MB\n"
     ]
    }
   ],
   "source": [
    "MSB_df.info()"
   ]
  },
  {
   "cell_type": "code",
   "execution_count": 12,
   "metadata": {
    "colab": {
     "base_uri": "https://localhost:8080/"
    },
    "id": "UNS12Z9BrHct",
    "outputId": "b5b3a9c9-e467-422b-b38d-670903fde96b"
   },
   "outputs": [
    {
     "data": {
      "text/plain": [
       "count    291451.000000\n",
       "mean        708.936991\n",
       "std          68.408791\n",
       "min           0.000000\n",
       "25%         675.000000\n",
       "50%         717.000000\n",
       "75%         753.000000\n",
       "max         849.000000\n",
       "Name: CreditScore, dtype: float64"
      ]
     },
     "execution_count": 12,
     "metadata": {},
     "output_type": "execute_result"
    }
   ],
   "source": [
    "MSB_df['CreditScore'].describe()"
   ]
  },
  {
   "cell_type": "code",
   "execution_count": 13,
   "metadata": {
    "colab": {
     "base_uri": "https://localhost:8080/",
     "height": 497
    },
    "id": "4NEUzhl1y6ty",
    "outputId": "ee53ee8c-d94e-4058-d42d-970f3bfa0438"
   },
   "outputs": [
    {
     "data": {
      "image/png": "[encoded data removed]",
      "text/plain": [
       "<Figure size 648x576 with 1 Axes>"
      ]
     },
     "metadata": {
      "needs_background": "light"
     },
     "output_type": "display_data"
    }
   ],
   "source": [
    "#Checking mean and outlier\n",
    "plt.figure(figsize=(9, 8)) \n",
    "sns.distplot(MSB_df['CreditScore'], color='g', bins=100, hist_kws={'alpha': 0.4});"
   ]
  },
  {
   "cell_type": "markdown",
   "metadata": {
    "id": "otdU2R0JpSfg"
   },
   "source": [
    "Here we can see the some of the value is 0 "
   ]
  },
  {
   "cell_type": "code",
   "execution_count": 14,
   "metadata": {
    "colab": {
     "base_uri": "https://localhost:8080/"
    },
    "id": "3WHliqExo8-o",
    "outputId": "e8216d40-7844-40de-e23a-2fef07bd442d"
   },
   "outputs": [
    {
     "data": {
      "text/plain": [
       "array([  0, 335, 342, 363, 366, 370, 375, 391, 396, 445, 462, 466, 471,\n",
       "       476, 477, 478, 479, 481, 482, 483, 485, 486, 487, 489, 490, 491,\n",
       "       492, 493, 494, 495, 496, 497, 498, 499, 500, 501, 502, 503, 504,\n",
       "       505, 506, 507, 508, 509, 510, 511, 512, 513, 514, 515, 516, 517,\n",
       "       518, 519, 520, 521, 522, 523, 524, 525, 526, 527, 528, 529, 530,\n",
       "       531, 532, 533, 534, 535, 536, 537, 538, 539, 540, 541, 542, 543,\n",
       "       544, 545, 546, 547, 548, 549, 550, 551, 552, 553, 554, 555, 556,\n",
       "       557, 558, 559, 560, 561, 562, 563, 564, 565, 566, 567, 568, 569,\n",
       "       570, 571, 572, 573, 574, 575, 576, 577, 578, 579, 580, 581, 582,\n",
       "       583, 584, 585, 586, 587, 588, 589, 590, 591, 592, 593, 594, 595,\n",
       "       596, 597, 598, 599, 600, 601, 602, 603, 604, 605, 606, 607, 608,\n",
       "       609, 610, 611, 612, 613, 614, 615, 616, 617, 618, 619, 620, 621,\n",
       "       622, 623, 624, 625, 626, 627, 628, 629, 630, 631, 632, 633, 634,\n",
       "       635, 636, 637, 638, 639, 640, 641, 642, 643, 644, 645, 646, 647,\n",
       "       648, 649, 650, 651, 652, 653, 654, 655, 656, 657, 658, 659, 660,\n",
       "       661, 662, 663, 664, 665, 666, 667, 668, 669, 670, 671, 672, 673,\n",
       "       674, 675, 676, 677, 678, 679, 680, 681, 682, 683, 684, 685, 686,\n",
       "       687, 688, 689, 690, 691, 692, 693, 694, 695, 696, 697, 698, 699,\n",
       "       700, 701, 702, 703, 704, 705, 706, 707, 708, 709, 710, 711, 712,\n",
       "       713, 714, 715, 716, 717, 718, 719, 720, 721, 722, 723, 724, 725,\n",
       "       726, 727, 728, 729, 730, 731, 732, 733, 734, 735, 736, 737, 738,\n",
       "       739, 740, 741, 742, 743, 744, 745, 746, 747, 748, 749, 750, 751,\n",
       "       752, 753, 754, 755, 756, 757, 758, 759, 760, 761, 762, 763, 764,\n",
       "       765, 766, 767, 768, 769, 770, 771, 772, 773, 774, 775, 776, 777,\n",
       "       778, 779, 780, 781, 782, 783, 784, 785, 786, 787, 788, 789, 790,\n",
       "       791, 792, 793, 794, 795, 796, 797, 798, 799, 800, 801, 802, 803,\n",
       "       804, 805, 806, 807, 808, 809, 810, 811, 812, 813, 814, 815, 816,\n",
       "       817, 818, 819, 820, 822, 823, 825, 826, 827, 828, 829, 831, 835,\n",
       "       837, 838, 839, 840, 845, 849], dtype=int64)"
      ]
     },
     "execution_count": 14,
     "metadata": {},
     "output_type": "execute_result"
    }
   ],
   "source": [
    "#Investigate the unique values in the column\n",
    "MSB_df.CreditScore.unique()"
   ]
  },
  {
   "cell_type": "code",
   "execution_count": 15,
   "metadata": {
    "colab": {
     "base_uri": "https://localhost:8080/"
    },
    "id": "qrHA6IoVsqtt",
    "outputId": "e5531f9f-a266-4f58-f9bf-29845ddf97e0"
   },
   "outputs": [
    {
     "data": {
      "text/plain": [
       "array([850, 335, 342, 363, 366, 370, 375, 391, 396, 445, 462, 466, 471,\n",
       "       476, 477, 478, 479, 481, 482, 483, 485, 486, 487, 489, 490, 491,\n",
       "       492, 493, 494, 495, 496, 497, 498, 499, 500, 501, 502, 503, 504,\n",
       "       505, 506, 507, 508, 509, 510, 511, 512, 513, 514, 515, 516, 517,\n",
       "       518, 519, 520, 521, 522, 523, 524, 525, 526, 527, 528, 529, 530,\n",
       "       531, 532, 533, 534, 535, 536, 537, 538, 539, 540, 541, 542, 543,\n",
       "       544, 545, 546, 547, 548, 549, 550, 551, 552, 553, 554, 555, 556,\n",
       "       557, 558, 559, 560, 561, 562, 563, 564, 565, 566, 567, 568, 569,\n",
       "       570, 571, 572, 573, 574, 575, 576, 577, 578, 579, 580, 581, 582,\n",
       "       583, 584, 585, 586, 587, 588, 589, 590, 591, 592, 593, 594, 595,\n",
       "       596, 597, 598, 599, 600, 601, 602, 603, 604, 605, 606, 607, 608,\n",
       "       609, 610, 611, 612, 613, 614, 615, 616, 617, 618, 619, 620, 621,\n",
       "       622, 623, 624, 625, 626, 627, 628, 629, 630, 631, 632, 633, 634,\n",
       "       635, 636, 637, 638, 639, 640, 641, 642, 643, 644, 645, 646, 647,\n",
       "       648, 649, 650, 651, 652, 653, 654, 655, 656, 657, 658, 659, 660,\n",
       "       661, 662, 663, 664, 665, 666, 667, 668, 669, 670, 671, 672, 673,\n",
       "       674, 675, 676, 677, 678, 679, 680, 681, 682, 683, 684, 685, 686,\n",
       "       687, 688, 689, 690, 691, 692, 693, 694, 695, 696, 697, 698, 699,\n",
       "       700, 701, 702, 703, 704, 705, 706, 707, 708, 709, 710, 711, 712,\n",
       "       713, 714, 715, 716, 717, 718, 719, 720, 721, 722, 723, 724, 725,\n",
       "       726, 727, 728, 729, 730, 731, 732, 733, 734, 735, 736, 737, 738,\n",
       "       739, 740, 741, 742, 743, 744, 745, 746, 747, 748, 749, 750, 751,\n",
       "       752, 753, 754, 755, 756, 757, 758, 759, 760, 761, 762, 763, 764,\n",
       "       765, 766, 767, 768, 769, 770, 771, 772, 773, 774, 775, 776, 777,\n",
       "       778, 779, 780, 781, 782, 783, 784, 785, 786, 787, 788, 789, 790,\n",
       "       791, 792, 793, 794, 795, 796, 797, 798, 799, 800, 801, 802, 803,\n",
       "       804, 805, 806, 807, 808, 809, 810, 811, 812, 813, 814, 815, 816,\n",
       "       817, 818, 819, 820, 822, 823, 825, 826, 827, 828, 829, 831, 835,\n",
       "       837, 838, 839, 840, 845, 849], dtype=int64)"
      ]
     },
     "execution_count": 15,
     "metadata": {},
     "output_type": "execute_result"
    }
   ],
   "source": [
    "# CreditScore contains a 0 which the data definition states is actually 850.\n",
    "# Let's convert all 0's to 850\n",
    "MSB_df['CreditScore'] = np.where(MSB_df['CreditScore'] == 0,850 , MSB_df['CreditScore'])\n",
    "MSB_df.CreditScore.unique()"
   ]
  },
  {
   "cell_type": "code",
   "execution_count": 16,
   "metadata": {
    "colab": {
     "base_uri": "https://localhost:8080/",
     "height": 497
    },
    "id": "XV7g__ETtu5U",
    "outputId": "f1fc4fd1-32b8-4919-9647-265da1bb3130"
   },
   "outputs": [
    {
     "data": {
      "image/png": "[encoded data removed]",
      "text/plain": [
       "<Figure size 648x576 with 1 Axes>"
      ]
     },
     "metadata": {
      "needs_background": "light"
     },
     "output_type": "display_data"
    }
   ],
   "source": [
    "#Now after the replace 0 with 850.\n",
    "plt.figure(figsize=(9, 8)) \n",
    "sns.distplot(MSB_df['CreditScore'], color='g', bins=100, hist_kws={'alpha': 0.4});"
   ]
  },
  {
   "cell_type": "code",
   "execution_count": 17,
   "metadata": {
    "colab": {
     "base_uri": "https://localhost:8080/",
     "height": 203
    },
    "id": "F48hb0yty5bc",
    "outputId": "0378be6f-7c31-4b6f-cfb3-af0036d5ce43"
   },
   "outputs": [
    {
     "data": {
      "text/html": [
       "<div>\n",
       "<style scoped>\n",
       "    .dataframe tbody tr th:only-of-type {\n",
       "        vertical-align: middle;\n",
       "    }\n",
       "\n",
       "    .dataframe tbody tr th {\n",
       "        vertical-align: top;\n",
       "    }\n",
       "\n",
       "    .dataframe thead th {\n",
       "        text-align: right;\n",
       "    }\n",
       "</style>\n",
       "<table border=\"1\" class=\"dataframe\">\n",
       "  <thead>\n",
       "    <tr style=\"text-align: right;\">\n",
       "      <th></th>\n",
       "      <th>CreditScore</th>\n",
       "      <th>MIP</th>\n",
       "      <th>OCLTV</th>\n",
       "      <th>DTI</th>\n",
       "      <th>LTV</th>\n",
       "      <th>OrigInterestRate</th>\n",
       "      <th>OrigLoanTerm</th>\n",
       "      <th>EverDelinquent</th>\n",
       "      <th>MonthsDelinquent</th>\n",
       "      <th>MonthsInRepayment</th>\n",
       "    </tr>\n",
       "  </thead>\n",
       "  <tbody>\n",
       "    <tr>\n",
       "      <th>0</th>\n",
       "      <td>850</td>\n",
       "      <td>25</td>\n",
       "      <td>89</td>\n",
       "      <td>27</td>\n",
       "      <td>89</td>\n",
       "      <td>6.750</td>\n",
       "      <td>360</td>\n",
       "      <td>0</td>\n",
       "      <td>0</td>\n",
       "      <td>52</td>\n",
       "    </tr>\n",
       "    <tr>\n",
       "      <th>1</th>\n",
       "      <td>850</td>\n",
       "      <td>0</td>\n",
       "      <td>73</td>\n",
       "      <td>17</td>\n",
       "      <td>73</td>\n",
       "      <td>6.500</td>\n",
       "      <td>360</td>\n",
       "      <td>0</td>\n",
       "      <td>0</td>\n",
       "      <td>144</td>\n",
       "    </tr>\n",
       "    <tr>\n",
       "      <th>2</th>\n",
       "      <td>850</td>\n",
       "      <td>0</td>\n",
       "      <td>75</td>\n",
       "      <td>16</td>\n",
       "      <td>75</td>\n",
       "      <td>6.875</td>\n",
       "      <td>360</td>\n",
       "      <td>0</td>\n",
       "      <td>0</td>\n",
       "      <td>67</td>\n",
       "    </tr>\n",
       "    <tr>\n",
       "      <th>3</th>\n",
       "      <td>850</td>\n",
       "      <td>0</td>\n",
       "      <td>76</td>\n",
       "      <td>14</td>\n",
       "      <td>76</td>\n",
       "      <td>6.875</td>\n",
       "      <td>360</td>\n",
       "      <td>0</td>\n",
       "      <td>0</td>\n",
       "      <td>35</td>\n",
       "    </tr>\n",
       "    <tr>\n",
       "      <th>4</th>\n",
       "      <td>850</td>\n",
       "      <td>0</td>\n",
       "      <td>78</td>\n",
       "      <td>18</td>\n",
       "      <td>78</td>\n",
       "      <td>7.125</td>\n",
       "      <td>360</td>\n",
       "      <td>0</td>\n",
       "      <td>0</td>\n",
       "      <td>54</td>\n",
       "    </tr>\n",
       "  </tbody>\n",
       "</table>\n",
       "</div>"
      ],
      "text/plain": [
       "   CreditScore  MIP  OCLTV  DTI  LTV  OrigInterestRate  OrigLoanTerm  \\\n",
       "0          850   25     89   27   89             6.750           360   \n",
       "1          850    0     73   17   73             6.500           360   \n",
       "2          850    0     75   16   75             6.875           360   \n",
       "3          850    0     76   14   76             6.875           360   \n",
       "4          850    0     78   18   78             7.125           360   \n",
       "\n",
       "   EverDelinquent  MonthsDelinquent  MonthsInRepayment  \n",
       "0               0                 0                 52  \n",
       "1               0                 0                144  \n",
       "2               0                 0                 67  \n",
       "3               0                 0                 35  \n",
       "4               0                 0                 54  "
      ]
     },
     "execution_count": 17,
     "metadata": {},
     "output_type": "execute_result"
    }
   ],
   "source": [
    "#Numerical data distribution\n",
    "df_num = MSB_df.select_dtypes(include = 'number')\n",
    "df_num.head()\n"
   ]
  },
  {
   "cell_type": "code",
   "execution_count": 18,
   "metadata": {
    "colab": {
     "base_uri": "https://localhost:8080/",
     "height": 203
    },
    "id": "ySvVvqljOeBG",
    "outputId": "48bd1e95-e30c-4bf3-f952-ff3ddc3de8af"
   },
   "outputs": [
    {
     "data": {
      "text/html": [
       "<div>\n",
       "<style scoped>\n",
       "    .dataframe tbody tr th:only-of-type {\n",
       "        vertical-align: middle;\n",
       "    }\n",
       "\n",
       "    .dataframe tbody tr th {\n",
       "        vertical-align: top;\n",
       "    }\n",
       "\n",
       "    .dataframe thead th {\n",
       "        text-align: right;\n",
       "    }\n",
       "</style>\n",
       "<table border=\"1\" class=\"dataframe\">\n",
       "  <thead>\n",
       "    <tr style=\"text-align: right;\">\n",
       "      <th></th>\n",
       "      <th>CreditScore</th>\n",
       "      <th>MIP</th>\n",
       "      <th>OCLTV</th>\n",
       "      <th>DTI</th>\n",
       "      <th>LTV</th>\n",
       "      <th>OrigInterestRate</th>\n",
       "      <th>OrigLoanTerm</th>\n",
       "      <th>EverDelinquent</th>\n",
       "      <th>MonthsDelinquent</th>\n",
       "      <th>MonthsInRepayment</th>\n",
       "    </tr>\n",
       "  </thead>\n",
       "  <tbody>\n",
       "    <tr>\n",
       "      <th>291446</th>\n",
       "      <td>839</td>\n",
       "      <td>0</td>\n",
       "      <td>60</td>\n",
       "      <td>32</td>\n",
       "      <td>60</td>\n",
       "      <td>7.000</td>\n",
       "      <td>360</td>\n",
       "      <td>0</td>\n",
       "      <td>0</td>\n",
       "      <td>12</td>\n",
       "    </tr>\n",
       "    <tr>\n",
       "      <th>291447</th>\n",
       "      <td>840</td>\n",
       "      <td>0</td>\n",
       "      <td>73</td>\n",
       "      <td>0</td>\n",
       "      <td>73</td>\n",
       "      <td>6.375</td>\n",
       "      <td>319</td>\n",
       "      <td>0</td>\n",
       "      <td>0</td>\n",
       "      <td>53</td>\n",
       "    </tr>\n",
       "    <tr>\n",
       "      <th>291448</th>\n",
       "      <td>840</td>\n",
       "      <td>0</td>\n",
       "      <td>73</td>\n",
       "      <td>31</td>\n",
       "      <td>73</td>\n",
       "      <td>5.625</td>\n",
       "      <td>313</td>\n",
       "      <td>0</td>\n",
       "      <td>0</td>\n",
       "      <td>38</td>\n",
       "    </tr>\n",
       "    <tr>\n",
       "      <th>291449</th>\n",
       "      <td>845</td>\n",
       "      <td>0</td>\n",
       "      <td>80</td>\n",
       "      <td>54</td>\n",
       "      <td>80</td>\n",
       "      <td>7.000</td>\n",
       "      <td>360</td>\n",
       "      <td>0</td>\n",
       "      <td>0</td>\n",
       "      <td>32</td>\n",
       "    </tr>\n",
       "    <tr>\n",
       "      <th>291450</th>\n",
       "      <td>849</td>\n",
       "      <td>0</td>\n",
       "      <td>47</td>\n",
       "      <td>29</td>\n",
       "      <td>47</td>\n",
       "      <td>7.000</td>\n",
       "      <td>360</td>\n",
       "      <td>0</td>\n",
       "      <td>0</td>\n",
       "      <td>29</td>\n",
       "    </tr>\n",
       "  </tbody>\n",
       "</table>\n",
       "</div>"
      ],
      "text/plain": [
       "        CreditScore  MIP  OCLTV  DTI  LTV  OrigInterestRate  OrigLoanTerm  \\\n",
       "291446          839    0     60   32   60             7.000           360   \n",
       "291447          840    0     73    0   73             6.375           319   \n",
       "291448          840    0     73   31   73             5.625           313   \n",
       "291449          845    0     80   54   80             7.000           360   \n",
       "291450          849    0     47   29   47             7.000           360   \n",
       "\n",
       "        EverDelinquent  MonthsDelinquent  MonthsInRepayment  \n",
       "291446               0                 0                 12  \n",
       "291447               0                 0                 53  \n",
       "291448               0                 0                 38  \n",
       "291449               0                 0                 32  \n",
       "291450               0                 0                 29  "
      ]
     },
     "execution_count": 18,
     "metadata": {},
     "output_type": "execute_result"
    }
   ],
   "source": [
    "df_num.tail()"
   ]
  },
  {
   "cell_type": "code",
   "execution_count": 19,
   "metadata": {
    "colab": {
     "base_uri": "https://localhost:8080/",
     "height": 1000
    },
    "id": "4SnMqtv7hcmd",
    "outputId": "dad2f909-b8be-479e-f85d-6db6ce7a5b39"
   },
   "outputs": [
    {
     "data": {
      "image/png": "[encoded data removed]",
      "text/plain": [
       "<Figure size 1152x1440 with 12 Axes>"
      ]
     },
     "metadata": {
      "needs_background": "light"
     },
     "output_type": "display_data"
    }
   ],
   "source": [
    "df_num.hist(figsize=(16, 20), bins=50, xlabelsize=8, ylabelsize=8);"
   ]
  },
  {
   "cell_type": "code",
   "execution_count": 20,
   "metadata": {
    "colab": {
     "base_uri": "https://localhost:8080/",
     "height": 315
    },
    "id": "_mexjmwq23PJ",
    "outputId": "30e0877c-1f8c-4af5-a51d-a873bc1e996e"
   },
   "outputs": [
    {
     "data": {
      "text/html": [
       "<div>\n",
       "<style scoped>\n",
       "    .dataframe tbody tr th:only-of-type {\n",
       "        vertical-align: middle;\n",
       "    }\n",
       "\n",
       "    .dataframe tbody tr th {\n",
       "        vertical-align: top;\n",
       "    }\n",
       "\n",
       "    .dataframe thead th {\n",
       "        text-align: right;\n",
       "    }\n",
       "</style>\n",
       "<table border=\"1\" class=\"dataframe\">\n",
       "  <thead>\n",
       "    <tr style=\"text-align: right;\">\n",
       "      <th></th>\n",
       "      <th>CreditScore</th>\n",
       "      <th>MIP</th>\n",
       "      <th>OCLTV</th>\n",
       "      <th>DTI</th>\n",
       "      <th>LTV</th>\n",
       "      <th>OrigInterestRate</th>\n",
       "      <th>OrigLoanTerm</th>\n",
       "      <th>EverDelinquent</th>\n",
       "      <th>MonthsDelinquent</th>\n",
       "      <th>MonthsInRepayment</th>\n",
       "    </tr>\n",
       "  </thead>\n",
       "  <tbody>\n",
       "    <tr>\n",
       "      <th>count</th>\n",
       "      <td>291451.000000</td>\n",
       "      <td>291451.000000</td>\n",
       "      <td>291451.000000</td>\n",
       "      <td>291451.000000</td>\n",
       "      <td>291451.000000</td>\n",
       "      <td>291451.000000</td>\n",
       "      <td>291451.000000</td>\n",
       "      <td>291451.000000</td>\n",
       "      <td>291451.000000</td>\n",
       "      <td>291451.000000</td>\n",
       "    </tr>\n",
       "    <tr>\n",
       "      <th>mean</th>\n",
       "      <td>712.404641</td>\n",
       "      <td>9.216685</td>\n",
       "      <td>76.960529</td>\n",
       "      <td>30.033453</td>\n",
       "      <td>76.937986</td>\n",
       "      <td>6.926547</td>\n",
       "      <td>359.835375</td>\n",
       "      <td>0.197848</td>\n",
       "      <td>1.837729</td>\n",
       "      <td>60.805291</td>\n",
       "    </tr>\n",
       "    <tr>\n",
       "      <th>std</th>\n",
       "      <td>51.947505</td>\n",
       "      <td>12.648273</td>\n",
       "      <td>15.236154</td>\n",
       "      <td>13.203974</td>\n",
       "      <td>15.225298</td>\n",
       "      <td>0.343541</td>\n",
       "      <td>2.286939</td>\n",
       "      <td>0.398378</td>\n",
       "      <td>8.809392</td>\n",
       "      <td>46.142599</td>\n",
       "    </tr>\n",
       "    <tr>\n",
       "      <th>min</th>\n",
       "      <td>335.000000</td>\n",
       "      <td>0.000000</td>\n",
       "      <td>0.000000</td>\n",
       "      <td>0.000000</td>\n",
       "      <td>0.000000</td>\n",
       "      <td>4.000000</td>\n",
       "      <td>301.000000</td>\n",
       "      <td>0.000000</td>\n",
       "      <td>0.000000</td>\n",
       "      <td>1.000000</td>\n",
       "    </tr>\n",
       "    <tr>\n",
       "      <th>25%</th>\n",
       "      <td>676.000000</td>\n",
       "      <td>0.000000</td>\n",
       "      <td>70.000000</td>\n",
       "      <td>22.000000</td>\n",
       "      <td>70.000000</td>\n",
       "      <td>6.750000</td>\n",
       "      <td>360.000000</td>\n",
       "      <td>0.000000</td>\n",
       "      <td>0.000000</td>\n",
       "      <td>34.000000</td>\n",
       "    </tr>\n",
       "    <tr>\n",
       "      <th>50%</th>\n",
       "      <td>718.000000</td>\n",
       "      <td>0.000000</td>\n",
       "      <td>80.000000</td>\n",
       "      <td>31.000000</td>\n",
       "      <td>80.000000</td>\n",
       "      <td>6.875000</td>\n",
       "      <td>360.000000</td>\n",
       "      <td>0.000000</td>\n",
       "      <td>0.000000</td>\n",
       "      <td>48.000000</td>\n",
       "    </tr>\n",
       "    <tr>\n",
       "      <th>75%</th>\n",
       "      <td>753.000000</td>\n",
       "      <td>25.000000</td>\n",
       "      <td>90.000000</td>\n",
       "      <td>39.000000</td>\n",
       "      <td>90.000000</td>\n",
       "      <td>7.125000</td>\n",
       "      <td>360.000000</td>\n",
       "      <td>0.000000</td>\n",
       "      <td>0.000000</td>\n",
       "      <td>63.000000</td>\n",
       "    </tr>\n",
       "    <tr>\n",
       "      <th>max</th>\n",
       "      <td>850.000000</td>\n",
       "      <td>55.000000</td>\n",
       "      <td>110.000000</td>\n",
       "      <td>65.000000</td>\n",
       "      <td>103.000000</td>\n",
       "      <td>12.350000</td>\n",
       "      <td>361.000000</td>\n",
       "      <td>1.000000</td>\n",
       "      <td>180.000000</td>\n",
       "      <td>212.000000</td>\n",
       "    </tr>\n",
       "  </tbody>\n",
       "</table>\n",
       "</div>"
      ],
      "text/plain": [
       "         CreditScore            MIP          OCLTV            DTI  \\\n",
       "count  291451.000000  291451.000000  291451.000000  291451.000000   \n",
       "mean      712.404641       9.216685      76.960529      30.033453   \n",
       "std        51.947505      12.648273      15.236154      13.203974   \n",
       "min       335.000000       0.000000       0.000000       0.000000   \n",
       "25%       676.000000       0.000000      70.000000      22.000000   \n",
       "50%       718.000000       0.000000      80.000000      31.000000   \n",
       "75%       753.000000      25.000000      90.000000      39.000000   \n",
       "max       850.000000      55.000000     110.000000      65.000000   \n",
       "\n",
       "                 LTV  OrigInterestRate   OrigLoanTerm  EverDelinquent  \\\n",
       "count  291451.000000     291451.000000  291451.000000   291451.000000   \n",
       "mean       76.937986          6.926547     359.835375        0.197848   \n",
       "std        15.225298          0.343541       2.286939        0.398378   \n",
       "min         0.000000          4.000000     301.000000        0.000000   \n",
       "25%        70.000000          6.750000     360.000000        0.000000   \n",
       "50%        80.000000          6.875000     360.000000        0.000000   \n",
       "75%        90.000000          7.125000     360.000000        0.000000   \n",
       "max       103.000000         12.350000     361.000000        1.000000   \n",
       "\n",
       "       MonthsDelinquent  MonthsInRepayment  \n",
       "count     291451.000000      291451.000000  \n",
       "mean           1.837729          60.805291  \n",
       "std            8.809392          46.142599  \n",
       "min            0.000000           1.000000  \n",
       "25%            0.000000          34.000000  \n",
       "50%            0.000000          48.000000  \n",
       "75%            0.000000          63.000000  \n",
       "max          180.000000         212.000000  "
      ]
     },
     "execution_count": 20,
     "metadata": {},
     "output_type": "execute_result"
    }
   ],
   "source": [
    "df_num.describe()"
   ]
  },
  {
   "cell_type": "code",
   "execution_count": 21,
   "metadata": {
    "colab": {
     "base_uri": "https://localhost:8080/",
     "height": 558
    },
    "id": "QlHDdIpu5gAp",
    "outputId": "b9b98419-9e21-496d-b417-d2ac0073f6aa"
   },
   "outputs": [
    {
     "data": {
      "image/png": "[encoded data removed]",
      "text/plain": [
       "<Figure size 1296x648 with 1 Axes>"
      ]
     },
     "metadata": {
      "needs_background": "light"
     },
     "output_type": "display_data"
    }
   ],
   "source": [
    "#Boxplot of numerical variables\n",
    "plt.figure(figsize=(18,9))\n",
    "df_num.boxplot()\n",
    "plt.title(\"Numerical variables in Freddie Mac dataset\", fontsize=20)\n",
    "plt.show()"
   ]
  },
  {
   "cell_type": "code",
   "execution_count": 22,
   "metadata": {
    "colab": {
     "base_uri": "https://localhost:8080/"
    },
    "id": "alN54gZZkhM9",
    "outputId": "bd940554-556c-4122-acfd-a7e77623ff11"
   },
   "outputs": [
    {
     "data": {
      "text/plain": [
       "CreditScore          False\n",
       "MIP                  False\n",
       "OCLTV                False\n",
       "DTI                  False\n",
       "LTV                  False\n",
       "OrigInterestRate     False\n",
       "OrigLoanTerm         False\n",
       "EverDelinquent       False\n",
       "MonthsDelinquent     False\n",
       "MonthsInRepayment    False\n",
       "dtype: bool"
      ]
     },
     "execution_count": 22,
     "metadata": {},
     "output_type": "execute_result"
    }
   ],
   "source": [
    "#Ckecking Null Values\n",
    "df_num.isnull().sum()==True"
   ]
  },
  {
   "cell_type": "markdown",
   "metadata": {
    "id": "4tOA3QEwmZIn"
   },
   "source": [
    "There are no missing values in this dataset"
   ]
  },
  {
   "cell_type": "code",
   "execution_count": 23,
   "metadata": {
    "colab": {
     "base_uri": "https://localhost:8080/",
     "height": 377
    },
    "id": "9VkMPbBEkign",
    "outputId": "7e289209-26b4-463b-c236-15fe1ff1dd81"
   },
   "outputs": [
    {
     "data": {
      "text/html": [
       "<div>\n",
       "<style scoped>\n",
       "    .dataframe tbody tr th:only-of-type {\n",
       "        vertical-align: middle;\n",
       "    }\n",
       "\n",
       "    .dataframe tbody tr th {\n",
       "        vertical-align: top;\n",
       "    }\n",
       "\n",
       "    .dataframe thead th {\n",
       "        text-align: right;\n",
       "    }\n",
       "</style>\n",
       "<table border=\"1\" class=\"dataframe\">\n",
       "  <thead>\n",
       "    <tr style=\"text-align: right;\">\n",
       "      <th></th>\n",
       "      <th>CreditScore</th>\n",
       "      <th>MIP</th>\n",
       "      <th>OCLTV</th>\n",
       "      <th>DTI</th>\n",
       "      <th>LTV</th>\n",
       "      <th>OrigInterestRate</th>\n",
       "      <th>OrigLoanTerm</th>\n",
       "      <th>EverDelinquent</th>\n",
       "      <th>MonthsDelinquent</th>\n",
       "      <th>MonthsInRepayment</th>\n",
       "    </tr>\n",
       "  </thead>\n",
       "  <tbody>\n",
       "    <tr>\n",
       "      <th>CreditScore</th>\n",
       "      <td>1.000000</td>\n",
       "      <td>-0.198677</td>\n",
       "      <td>-0.238649</td>\n",
       "      <td>-0.137809</td>\n",
       "      <td>-0.238920</td>\n",
       "      <td>-0.135855</td>\n",
       "      <td>-0.012236</td>\n",
       "      <td>-0.260214</td>\n",
       "      <td>-0.184442</td>\n",
       "      <td>0.003528</td>\n",
       "    </tr>\n",
       "    <tr>\n",
       "      <th>MIP</th>\n",
       "      <td>-0.198677</td>\n",
       "      <td>1.000000</td>\n",
       "      <td>0.694789</td>\n",
       "      <td>0.111603</td>\n",
       "      <td>0.695888</td>\n",
       "      <td>0.124544</td>\n",
       "      <td>0.014834</td>\n",
       "      <td>0.059993</td>\n",
       "      <td>0.051204</td>\n",
       "      <td>-0.087802</td>\n",
       "    </tr>\n",
       "    <tr>\n",
       "      <th>OCLTV</th>\n",
       "      <td>-0.238649</td>\n",
       "      <td>0.694789</td>\n",
       "      <td>1.000000</td>\n",
       "      <td>0.114853</td>\n",
       "      <td>0.999470</td>\n",
       "      <td>0.095268</td>\n",
       "      <td>0.018560</td>\n",
       "      <td>0.065528</td>\n",
       "      <td>0.059811</td>\n",
       "      <td>-0.094299</td>\n",
       "    </tr>\n",
       "    <tr>\n",
       "      <th>DTI</th>\n",
       "      <td>-0.137809</td>\n",
       "      <td>0.111603</td>\n",
       "      <td>0.114853</td>\n",
       "      <td>1.000000</td>\n",
       "      <td>0.114468</td>\n",
       "      <td>0.105216</td>\n",
       "      <td>0.028005</td>\n",
       "      <td>0.062109</td>\n",
       "      <td>0.040830</td>\n",
       "      <td>-0.007732</td>\n",
       "    </tr>\n",
       "    <tr>\n",
       "      <th>LTV</th>\n",
       "      <td>-0.238920</td>\n",
       "      <td>0.695888</td>\n",
       "      <td>0.999470</td>\n",
       "      <td>0.114468</td>\n",
       "      <td>1.000000</td>\n",
       "      <td>0.095520</td>\n",
       "      <td>0.018477</td>\n",
       "      <td>0.065735</td>\n",
       "      <td>0.059930</td>\n",
       "      <td>-0.094596</td>\n",
       "    </tr>\n",
       "    <tr>\n",
       "      <th>OrigInterestRate</th>\n",
       "      <td>-0.135855</td>\n",
       "      <td>0.124544</td>\n",
       "      <td>0.095268</td>\n",
       "      <td>0.105216</td>\n",
       "      <td>0.095520</td>\n",
       "      <td>1.000000</td>\n",
       "      <td>0.010794</td>\n",
       "      <td>0.060418</td>\n",
       "      <td>0.051706</td>\n",
       "      <td>-0.120378</td>\n",
       "    </tr>\n",
       "    <tr>\n",
       "      <th>OrigLoanTerm</th>\n",
       "      <td>-0.012236</td>\n",
       "      <td>0.014834</td>\n",
       "      <td>0.018560</td>\n",
       "      <td>0.028005</td>\n",
       "      <td>0.018477</td>\n",
       "      <td>0.010794</td>\n",
       "      <td>1.000000</td>\n",
       "      <td>0.010348</td>\n",
       "      <td>0.006567</td>\n",
       "      <td>0.016591</td>\n",
       "    </tr>\n",
       "    <tr>\n",
       "      <th>EverDelinquent</th>\n",
       "      <td>-0.260214</td>\n",
       "      <td>0.059993</td>\n",
       "      <td>0.065528</td>\n",
       "      <td>0.062109</td>\n",
       "      <td>0.065735</td>\n",
       "      <td>0.060418</td>\n",
       "      <td>0.010348</td>\n",
       "      <td>1.000000</td>\n",
       "      <td>0.420048</td>\n",
       "      <td>0.232497</td>\n",
       "    </tr>\n",
       "    <tr>\n",
       "      <th>MonthsDelinquent</th>\n",
       "      <td>-0.184442</td>\n",
       "      <td>0.051204</td>\n",
       "      <td>0.059811</td>\n",
       "      <td>0.040830</td>\n",
       "      <td>0.059930</td>\n",
       "      <td>0.051706</td>\n",
       "      <td>0.006567</td>\n",
       "      <td>0.420048</td>\n",
       "      <td>1.000000</td>\n",
       "      <td>0.306631</td>\n",
       "    </tr>\n",
       "    <tr>\n",
       "      <th>MonthsInRepayment</th>\n",
       "      <td>0.003528</td>\n",
       "      <td>-0.087802</td>\n",
       "      <td>-0.094299</td>\n",
       "      <td>-0.007732</td>\n",
       "      <td>-0.094596</td>\n",
       "      <td>-0.120378</td>\n",
       "      <td>0.016591</td>\n",
       "      <td>0.232497</td>\n",
       "      <td>0.306631</td>\n",
       "      <td>1.000000</td>\n",
       "    </tr>\n",
       "  </tbody>\n",
       "</table>\n",
       "</div>"
      ],
      "text/plain": [
       "                   CreditScore       MIP     OCLTV       DTI       LTV  \\\n",
       "CreditScore           1.000000 -0.198677 -0.238649 -0.137809 -0.238920   \n",
       "MIP                  -0.198677  1.000000  0.694789  0.111603  0.695888   \n",
       "OCLTV                -0.238649  0.694789  1.000000  0.114853  0.999470   \n",
       "DTI                  -0.137809  0.111603  0.114853  1.000000  0.114468   \n",
       "LTV                  -0.238920  0.695888  0.999470  0.114468  1.000000   \n",
       "OrigInterestRate     -0.135855  0.124544  0.095268  0.105216  0.095520   \n",
       "OrigLoanTerm         -0.012236  0.014834  0.018560  0.028005  0.018477   \n",
       "EverDelinquent       -0.260214  0.059993  0.065528  0.062109  0.065735   \n",
       "MonthsDelinquent     -0.184442  0.051204  0.059811  0.040830  0.059930   \n",
       "MonthsInRepayment     0.003528 -0.087802 -0.094299 -0.007732 -0.094596   \n",
       "\n",
       "                   OrigInterestRate  OrigLoanTerm  EverDelinquent  \\\n",
       "CreditScore               -0.135855     -0.012236       -0.260214   \n",
       "MIP                        0.124544      0.014834        0.059993   \n",
       "OCLTV                      0.095268      0.018560        0.065528   \n",
       "DTI                        0.105216      0.028005        0.062109   \n",
       "LTV                        0.095520      0.018477        0.065735   \n",
       "OrigInterestRate           1.000000      0.010794        0.060418   \n",
       "OrigLoanTerm               0.010794      1.000000        0.010348   \n",
       "EverDelinquent             0.060418      0.010348        1.000000   \n",
       "MonthsDelinquent           0.051706      0.006567        0.420048   \n",
       "MonthsInRepayment         -0.120378      0.016591        0.232497   \n",
       "\n",
       "                   MonthsDelinquent  MonthsInRepayment  \n",
       "CreditScore               -0.184442           0.003528  \n",
       "MIP                        0.051204          -0.087802  \n",
       "OCLTV                      0.059811          -0.094299  \n",
       "DTI                        0.040830          -0.007732  \n",
       "LTV                        0.059930          -0.094596  \n",
       "OrigInterestRate           0.051706          -0.120378  \n",
       "OrigLoanTerm               0.006567           0.016591  \n",
       "EverDelinquent             0.420048           0.232497  \n",
       "MonthsDelinquent           1.000000           0.306631  \n",
       "MonthsInRepayment          0.306631           1.000000  "
      ]
     },
     "execution_count": 23,
     "metadata": {},
     "output_type": "execute_result"
    }
   ],
   "source": [
    "df_num_corr=df_num.corr()\n",
    "df_num_corr"
   ]
  },
  {
   "cell_type": "markdown",
   "metadata": {
    "id": "4chufj28m3PR"
   },
   "source": [
    "Correlation"
   ]
  },
  {
   "cell_type": "code",
   "execution_count": 24,
   "metadata": {
    "colab": {
     "base_uri": "https://localhost:8080/"
    },
    "id": "nMp-LPPKkixj",
    "outputId": "df33b398-1f22-41a3-c555-513aa3b9c2b2"
   },
   "outputs": [
    {
     "name": "stdout",
     "output_type": "stream",
     "text": [
      "There is 8 strongly correlated values with CreditScore:\n",
      "CreditScore         1.000000\n",
      "OrigInterestRate   -0.135855\n",
      "DTI                -0.137809\n",
      "MonthsDelinquent   -0.184442\n",
      "MIP                -0.198677\n",
      "OCLTV              -0.238649\n",
      "LTV                -0.238920\n",
      "EverDelinquent     -0.260214\n",
      "Name: CreditScore, dtype: float64\n"
     ]
    }
   ],
   "source": [
    "#Now we'll try to find which features are strongly correlated with CreditScore\n",
    "df_num_corr = df_num.corr()['CreditScore'][:-1] # -1 because the latest row is SalePrice\n",
    "golden_features_list = df_num_corr[abs(df_num_corr) > 0.05].sort_values(ascending=False)\n",
    "print(\"There is {} strongly correlated values with CreditScore:\\n{}\".format(len(golden_features_list), golden_features_list))\n"
   ]
  },
  {
   "cell_type": "code",
   "execution_count": 25,
   "metadata": {
    "colab": {
     "base_uri": "https://localhost:8080/",
     "height": 639
    },
    "id": "VG_zDSe8kjFU",
    "outputId": "52547956-a358-40c0-e80c-89a481712a4e"
   },
   "outputs": [
    {
     "data": {
      "image/png": "[encoded data removed]",
      "text/plain": [
       "<Figure size 720x720 with 2 Axes>"
      ]
     },
     "metadata": {
      "needs_background": "light"
     },
     "output_type": "display_data"
    }
   ],
   "source": [
    "#HeatMap\n",
    "plt.figure(figsize=(10, 10))\n",
    "df_num_corr = df_num.corr()\n",
    "sns.heatmap(df_num_corr, annot=True, square=True)\n",
    "plt.yticks(rotation=0)\n",
    "plt.show()"
   ]
  },
  {
   "cell_type": "markdown",
   "metadata": {
    "id": "Hgg2SmKCz1JG"
   },
   "source": [
    "# **Handling Categorical Data**"
   ]
  },
  {
   "cell_type": "code",
   "execution_count": 26,
   "metadata": {
    "colab": {
     "base_uri": "https://localhost:8080/"
    },
    "id": "cFg8IOtkxrnR",
    "outputId": "70cf0344-9de7-47f0-e176-216f2bd96bfb"
   },
   "outputs": [
    {
     "data": {
      "text/plain": [
       "array(['N', 'X', 'Y'], dtype=object)"
      ]
     },
     "execution_count": 26,
     "metadata": {},
     "output_type": "execute_result"
    }
   ],
   "source": [
    "# Find the values in FirstTimeHomebuyer column\n",
    "MSB_df.FirstTimeHomebuyer.unique()"
   ]
  },
  {
   "cell_type": "code",
   "execution_count": 27,
   "metadata": {
    "colab": {
     "base_uri": "https://localhost:8080/"
    },
    "id": "pwaZUFxJx9T_",
    "outputId": "b554aad6-427a-416e-eb63-f215855bed5d"
   },
   "outputs": [
    {
     "data": {
      "text/plain": [
       "array(['N', 'Y'], dtype=object)"
      ]
     },
     "execution_count": 27,
     "metadata": {},
     "output_type": "execute_result"
    }
   ],
   "source": [
    "# FirstTimeHomebuyer contains X's which stand for unknowns, i.e. Nulls. \n",
    "# Need to remove all rows that do not have a valid answer, Y/N, as they are not useful to our research.\n",
    "MSB_df = MSB_df[MSB_df.FirstTimeHomebuyer != 'X']\n",
    "MSB_df.FirstTimeHomebuyer.unique()"
   ]
  },
  {
   "cell_type": "code",
   "execution_count": 28,
   "metadata": {
    "colab": {
     "base_uri": "https://localhost:8080/"
    },
    "id": "OYS6Nf0oyL2L",
    "outputId": "73d8f594-549a-441c-93f5-6a117b586a61"
   },
   "outputs": [
    {
     "data": {
      "text/plain": [
       "N    184154\n",
       "Y     29282\n",
       "Name: FirstTimeHomebuyer, dtype: int64"
      ]
     },
     "execution_count": 28,
     "metadata": {},
     "output_type": "execute_result"
    }
   ],
   "source": [
    "# Count values in FirstTimeHomebuyer\n",
    "MSB_df['FirstTimeHomebuyer'].value_counts()"
   ]
  },
  {
   "cell_type": "code",
   "execution_count": 29,
   "metadata": {
    "colab": {
     "base_uri": "https://localhost:8080/"
    },
    "id": "dO8yfHr8ydbT",
    "outputId": "675bcf54-66f2-479d-dfd6-36be12e67d99"
   },
   "outputs": [
    {
     "data": {
      "text/plain": [
       "0    184154\n",
       "1     29282\n",
       "Name: IsFirstTime, dtype: int64"
      ]
     },
     "execution_count": 29,
     "metadata": {},
     "output_type": "execute_result"
    }
   ],
   "source": [
    "# Rename FirstTimeHomebuyer to IsFirstTime\n",
    "MSB_df = MSB_df.rename(columns = {'FirstTimeHomebuyer':'IsFirstTime'})\n",
    "# Convert Y/N to 1 or 0 and then count values again to ensure they match\n",
    "MSB_df['IsFirstTime'] = np.where(MSB_df['IsFirstTime'] == 'Y',1,0)\n",
    "MSB_df['IsFirstTime'].value_counts()"
   ]
  },
  {
   "cell_type": "code",
   "execution_count": 30,
   "metadata": {
    "colab": {
     "base_uri": "https://localhost:8080/"
    },
    "id": "sqWOOLZyzO7C",
    "outputId": "8badc050-6424-405c-f40c-fd347bc1fce6"
   },
   "outputs": [
    {
     "data": {
      "text/plain": [
       "array([25,  0, 30, 12, 35, 29, 17, 18, 20, 22,  6, 14, 33, 16, 52, 36, 28,\n",
       "       11, 45, 27, 10, 50, 47,  7, 24, 15, 37, 32, 26,  1, 13, 21, 23, 55,\n",
       "        4], dtype=int64)"
      ]
     },
     "execution_count": 30,
     "metadata": {},
     "output_type": "execute_result"
    }
   ],
   "source": [
    "# Find the values in MIP column\n",
    "MSB_df.MIP.unique()"
   ]
  },
  {
   "cell_type": "code",
   "execution_count": 31,
   "metadata": {
    "colab": {
     "base_uri": "https://localhost:8080/",
     "height": 223
    },
    "id": "5ZlfE9fdzcNW",
    "outputId": "080b3b4f-0da8-47a6-ff3f-57aa17701c92"
   },
   "outputs": [
    {
     "data": {
      "text/html": [
       "<div>\n",
       "<style scoped>\n",
       "    .dataframe tbody tr th:only-of-type {\n",
       "        vertical-align: middle;\n",
       "    }\n",
       "\n",
       "    .dataframe tbody tr th {\n",
       "        vertical-align: top;\n",
       "    }\n",
       "\n",
       "    .dataframe thead th {\n",
       "        text-align: right;\n",
       "    }\n",
       "</style>\n",
       "<table border=\"1\" class=\"dataframe\">\n",
       "  <thead>\n",
       "    <tr style=\"text-align: right;\">\n",
       "      <th></th>\n",
       "      <th>CreditScore</th>\n",
       "      <th>IsFirstTime</th>\n",
       "      <th>MIP</th>\n",
       "      <th>OCLTV</th>\n",
       "      <th>DTI</th>\n",
       "      <th>LTV</th>\n",
       "      <th>OrigInterestRate</th>\n",
       "      <th>PPM</th>\n",
       "      <th>OrigLoanTerm</th>\n",
       "      <th>NumBorrowers</th>\n",
       "      <th>EverDelinquent</th>\n",
       "      <th>MonthsDelinquent</th>\n",
       "      <th>MonthsInRepayment</th>\n",
       "    </tr>\n",
       "  </thead>\n",
       "  <tbody>\n",
       "    <tr>\n",
       "      <th>0</th>\n",
       "      <td>850</td>\n",
       "      <td>0</td>\n",
       "      <td>25</td>\n",
       "      <td>89</td>\n",
       "      <td>27</td>\n",
       "      <td>89</td>\n",
       "      <td>6.750</td>\n",
       "      <td>N</td>\n",
       "      <td>360</td>\n",
       "      <td>2</td>\n",
       "      <td>0</td>\n",
       "      <td>0</td>\n",
       "      <td>52</td>\n",
       "    </tr>\n",
       "    <tr>\n",
       "      <th>1</th>\n",
       "      <td>850</td>\n",
       "      <td>0</td>\n",
       "      <td>0</td>\n",
       "      <td>73</td>\n",
       "      <td>17</td>\n",
       "      <td>73</td>\n",
       "      <td>6.500</td>\n",
       "      <td>N</td>\n",
       "      <td>360</td>\n",
       "      <td>1</td>\n",
       "      <td>0</td>\n",
       "      <td>0</td>\n",
       "      <td>144</td>\n",
       "    </tr>\n",
       "    <tr>\n",
       "      <th>2</th>\n",
       "      <td>850</td>\n",
       "      <td>0</td>\n",
       "      <td>0</td>\n",
       "      <td>75</td>\n",
       "      <td>16</td>\n",
       "      <td>75</td>\n",
       "      <td>6.875</td>\n",
       "      <td>N</td>\n",
       "      <td>360</td>\n",
       "      <td>2</td>\n",
       "      <td>0</td>\n",
       "      <td>0</td>\n",
       "      <td>67</td>\n",
       "    </tr>\n",
       "    <tr>\n",
       "      <th>3</th>\n",
       "      <td>850</td>\n",
       "      <td>0</td>\n",
       "      <td>0</td>\n",
       "      <td>76</td>\n",
       "      <td>14</td>\n",
       "      <td>76</td>\n",
       "      <td>6.875</td>\n",
       "      <td>N</td>\n",
       "      <td>360</td>\n",
       "      <td>2</td>\n",
       "      <td>0</td>\n",
       "      <td>0</td>\n",
       "      <td>35</td>\n",
       "    </tr>\n",
       "    <tr>\n",
       "      <th>4</th>\n",
       "      <td>850</td>\n",
       "      <td>0</td>\n",
       "      <td>0</td>\n",
       "      <td>78</td>\n",
       "      <td>18</td>\n",
       "      <td>78</td>\n",
       "      <td>7.125</td>\n",
       "      <td>N</td>\n",
       "      <td>360</td>\n",
       "      <td>2</td>\n",
       "      <td>0</td>\n",
       "      <td>0</td>\n",
       "      <td>54</td>\n",
       "    </tr>\n",
       "  </tbody>\n",
       "</table>\n",
       "</div>"
      ],
      "text/plain": [
       "   CreditScore  IsFirstTime  MIP  OCLTV  DTI  LTV  OrigInterestRate PPM  \\\n",
       "0          850            0   25     89   27   89             6.750   N   \n",
       "1          850            0    0     73   17   73             6.500   N   \n",
       "2          850            0    0     75   16   75             6.875   N   \n",
       "3          850            0    0     76   14   76             6.875   N   \n",
       "4          850            0    0     78   18   78             7.125   N   \n",
       "\n",
       "   OrigLoanTerm NumBorrowers  EverDelinquent  MonthsDelinquent  \\\n",
       "0           360            2               0                 0   \n",
       "1           360            1               0                 0   \n",
       "2           360            2               0                 0   \n",
       "3           360            2               0                 0   \n",
       "4           360            2               0                 0   \n",
       "\n",
       "   MonthsInRepayment  \n",
       "0                 52  \n",
       "1                144  \n",
       "2                 67  \n",
       "3                 35  \n",
       "4                 54  "
      ]
     },
     "execution_count": 31,
     "metadata": {},
     "output_type": "execute_result"
    }
   ],
   "source": [
    "MSB_df.head()"
   ]
  },
  {
   "cell_type": "code",
   "execution_count": 32,
   "metadata": {
    "colab": {
     "base_uri": "https://localhost:8080/",
     "height": 402
    },
    "id": "6eDzlPUzqFAw",
    "outputId": "5ffe6896-1474-42c8-acf4-36d999084652"
   },
   "outputs": [
    {
     "data": {
      "text/plain": [
       "<seaborn.axisgrid.FacetGrid at 0x14487a2a8b0>"
      ]
     },
     "execution_count": 32,
     "metadata": {},
     "output_type": "execute_result"
    },
    {
     "data": {
      "text/plain": [
       "<Figure size 864x1440 with 0 Axes>"
      ]
     },
     "metadata": {},
     "output_type": "display_data"
    },
    {
     "data": {
      "image/png": "[encoded data removed]",
      "text/plain": [
       "<Figure size 421.625x360 with 1 Axes>"
      ]
     },
     "metadata": {
      "needs_background": "light"
     },
     "output_type": "display_data"
    }
   ],
   "source": [
    "#Bivariate Analysis\n",
    "plt.figure(figsize=(12,20))\n",
    "sns.relplot(x='MIP', y='CreditScore', hue='IsFirstTime', data=MSB_df)"
   ]
  },
  {
   "cell_type": "code",
   "execution_count": 33,
   "metadata": {
    "colab": {
     "base_uri": "https://localhost:8080/"
    },
    "id": "5NMVadf_18Ym",
    "outputId": "a91f4f9f-8099-42b9-86c7-a635af65aed5"
   },
   "outputs": [
    {
     "data": {
      "text/plain": [
       "N    204660\n",
       "X      4895\n",
       "Y      3881\n",
       "Name: PPM, dtype: int64"
      ]
     },
     "execution_count": 33,
     "metadata": {},
     "output_type": "execute_result"
    }
   ],
   "source": [
    "#Handle PPM\n",
    "MSB_df['PPM'].value_counts()"
   ]
  },
  {
   "cell_type": "code",
   "execution_count": 34,
   "metadata": {
    "colab": {
     "base_uri": "https://localhost:8080/"
    },
    "id": "irIishxR89qh",
    "outputId": "410dbbcf-49d6-49eb-9e97-2ddb5866afca"
   },
   "outputs": [
    {
     "data": {
      "text/plain": [
       "array(['N', 'Y'], dtype=object)"
      ]
     },
     "execution_count": 34,
     "metadata": {},
     "output_type": "execute_result"
    }
   ],
   "source": [
    "MSB_df = MSB_df[MSB_df.PPM != 'X']\n",
    "MSB_df.PPM.unique()"
   ]
  },
  {
   "cell_type": "code",
   "execution_count": 35,
   "metadata": {
    "colab": {
     "base_uri": "https://localhost:8080/"
    },
    "id": "TnWMxPVD9I7g",
    "outputId": "ad5d930e-eccd-4321-c000-e843c3e27f68"
   },
   "outputs": [
    {
     "data": {
      "text/plain": [
       "N    204660\n",
       "Y      3881\n",
       "Name: PPM, dtype: int64"
      ]
     },
     "execution_count": 35,
     "metadata": {},
     "output_type": "execute_result"
    }
   ],
   "source": [
    "MSB_df['PPM'].value_counts()"
   ]
  },
  {
   "cell_type": "code",
   "execution_count": 36,
   "metadata": {
    "colab": {
     "base_uri": "https://localhost:8080/"
    },
    "id": "lGZX7T1E9VLd",
    "outputId": "f19cd910-2e89-4933-b30a-0282b0914c2d"
   },
   "outputs": [
    {
     "data": {
      "text/plain": [
       "0    204660\n",
       "1      3881\n",
       "Name: PPM, dtype: int64"
      ]
     },
     "execution_count": 36,
     "metadata": {},
     "output_type": "execute_result"
    }
   ],
   "source": [
    "MSB_df['PPM'] = np.where(MSB_df['PPM'] == 'Y',1,0)\n",
    "MSB_df['PPM'].value_counts()"
   ]
  },
  {
   "cell_type": "code",
   "execution_count": 37,
   "metadata": {
    "colab": {
     "base_uri": "https://localhost:8080/"
    },
    "id": "69TTP7XZLGil",
    "outputId": "557891cb-5bab-4f2a-9f08-b98a26c813a8"
   },
   "outputs": [
    {
     "data": {
      "text/plain": [
       "array([ 89,  73,  75,  76,  78,  90,  95,  80,  77,  85,  93,  70,  74,\n",
       "        79,  72,  62,  44,  32,  64,  91,  53,  69,  60,  54,  52,  84,\n",
       "        68,  36,  55,  96,  97,  46,  58,  63,  83,  94,  48,  50,  51,\n",
       "        67,  86,  81,  66,  71,  82,  88,  26,  59,  57,  61,  87,  30,\n",
       "        24,  42,  65,  31, 100,   7,  38,  16,  92,  40,  35,  34,  56,\n",
       "        39,  22,  37,  28,  43,  47,  49,  98,  29,  25,  45,  33,  41,\n",
       "       103,  18,  23,  20,  15, 102, 101,  14,  21,  27, 105,  19,  10,\n",
       "         0, 104,  17, 110,   8,  99,  12,   6,  13,  11,   9], dtype=int64)"
      ]
     },
     "execution_count": 37,
     "metadata": {},
     "output_type": "execute_result"
    }
   ],
   "source": [
    "# Find values in OCLTV\n",
    "MSB_df.OCLTV.unique()\n",
    "# The OCLTV values check out here."
   ]
  },
  {
   "cell_type": "code",
   "execution_count": 38,
   "metadata": {
    "colab": {
     "base_uri": "https://localhost:8080/"
    },
    "id": "U9XehlFOLg7u",
    "outputId": "bed6b033-355e-495b-cdc7-f910a2a8d43d"
   },
   "outputs": [
    {
     "data": {
      "text/plain": [
       "array([27, 17, 16, 14, 18, 40, 21, 19, 38, 23, 28, 29, 15, 43, 25, 24, 45,\n",
       "       26, 20, 35, 39, 33, 48, 30, 31, 22, 56, 32, 12,  6, 37, 36, 42, 34,\n",
       "       11, 41,  8, 44, 55,  0, 51, 10,  7, 47,  9, 13, 65, 54, 53, 57, 46,\n",
       "        5, 50, 59, 49,  3, 52, 64,  4, 60,  2, 58,  1, 61, 62, 63],\n",
       "      dtype=int64)"
      ]
     },
     "execution_count": 38,
     "metadata": {},
     "output_type": "execute_result"
    }
   ],
   "source": [
    "# Find values in DTI\n",
    "MSB_df.DTI.unique()\n",
    "# The DTI values check out here."
   ]
  },
  {
   "cell_type": "code",
   "execution_count": 39,
   "metadata": {
    "colab": {
     "base_uri": "https://localhost:8080/"
    },
    "id": "-unJ8t48L1ea",
    "outputId": "acaaffce-f4cc-4b31-f1d2-a04db94983dc"
   },
   "outputs": [
    {
     "data": {
      "text/plain": [
       "array([ 89,  73,  75,  76,  78,  90,  95,  80,  77,  85,  93,  70,  74,\n",
       "        79,  72,  62,  44,  32,  64,  91,  53,  69,  60,  54,  52,  84,\n",
       "        68,  36,  55,  96,  97,  46,  58,  63,  83,  94,  48,  50,  51,\n",
       "        67,  86,  81,  66,  71,  82,  88,  26,  59,  57,  61,  87,  30,\n",
       "        24,  42,  65,  31,   7,  38,  16,  92,  40,  35,  34,  56,  39,\n",
       "        22,  37,  28,  43,  47, 100,  49,  98,  29,  25,  45,  33,  41,\n",
       "        18,  23,  20,  15,  14,  21,  27,  19,  10,   0,  17,   8,  12,\n",
       "         6,  13,  11,   9], dtype=int64)"
      ]
     },
     "execution_count": 39,
     "metadata": {},
     "output_type": "execute_result"
    }
   ],
   "source": [
    "# Find values in LTV\n",
    "MSB_df.LTV.unique()\n",
    "# The LTV values check out here."
   ]
  },
  {
   "cell_type": "code",
   "execution_count": 40,
   "metadata": {
    "colab": {
     "base_uri": "https://localhost:8080/"
    },
    "id": "VlqmzIl0L5wM",
    "outputId": "709cb127-5c45-46e3-a855-9b64088fe1ff"
   },
   "outputs": [
    {
     "data": {
      "text/plain": [
       "array([ 6.75 ,  6.5  ,  6.875,  7.125,  7.25 ,  6.625,  7.75 ,  7.   ,\n",
       "        7.2  ,  7.5  ,  7.875,  6.25 ,  8.125,  7.625,  7.15 ,  7.375,\n",
       "        6.375,  8.75 ,  7.05 ,  6.95 ,  8.   ,  8.625,  8.375,  8.5  ,\n",
       "        6.125,  6.   ,  5.875,  8.25 ,  8.99 ,  5.625,  9.   ,  5.125,\n",
       "        5.25 ,  9.125,  6.99 ,  5.375,  8.365,  8.875,  6.975,  7.3  ,\n",
       "        7.313,  9.25 ,  5.75 ,  7.85 ,  8.695,  4.875,  7.775,  7.29 ,\n",
       "        7.405,  9.5  ,  7.13 ,  7.1  ,  5.99 ,  6.999,  7.09 ,  9.375,\n",
       "        7.025,  7.58 , 10.5  ,  7.445,  6.85 ,  6.925,  6.9  ,  8.37 ,\n",
       "        7.675,  9.675,  7.475,  9.625,  7.17 ,  8.7  ,  8.9  , 10.   ,\n",
       "        9.75 ,  5.5  ,  6.62 ,  7.325, 10.375,  7.4  , 10.85 ,  7.245,\n",
       "       11.5  ,  6.87 ,  7.65 ,  7.28 ,  7.48 ,  6.88 ,  8.45 ,  6.895,\n",
       "        5.   ,  7.49 ,  6.8  ,  6.63 ,  8.05 ,  7.275,  7.225,  7.075,\n",
       "        8.8  ,  9.95 ,  7.35 ,  7.23 ,  7.175,  7.91 ,  7.575,  7.425,\n",
       "        7.33 , 10.625,  7.14 ,  7.12 ,  7.24 ,  7.7  ,  6.4  ,  6.3  ,\n",
       "        6.49 ,  6.55 ,  6.97 ,  7.878,  8.27 ,  7.38 ,  6.7  ,  7.45 ,\n",
       "        7.105,  9.35 , 10.75 ,  7.365,  6.871,  5.96 ,  8.3  ,  9.975,\n",
       "        7.43 , 11.125,  6.1  ,  6.883,  7.95 ,  6.65 ,  7.6  ,  7.54 ,\n",
       "       11.1  ,  6.955,  9.99 ,  7.023,  7.19 ,  5.89 ,  6.35 ,  7.08 ,\n",
       "        8.32 ,  8.315,  7.62 ,  7.55 ,  6.6  ,  7.26 ,  8.14 ,  7.072,\n",
       "        7.066,  6.225,  7.255,  6.715,  6.545,  7.188,  7.056,  6.45 ,\n",
       "        8.1  ,  8.485,  6.825,  7.06 ,  6.2  ,  7.085,  7.39 ,  7.355,\n",
       "        7.495,  6.33 ,  8.13 ,  8.18 ,  7.66 ,  6.602,  6.98 ,  8.06 ,\n",
       "        6.92 ,  4.75 ,  6.685,  6.51 ,  6.813,  7.165,  7.04 ,  8.255,\n",
       "        7.825,  7.624,  7.195,  7.265,  6.935,  6.965,  7.07 ,  7.32 ,\n",
       "        4.   ,  6.948,  7.64 ,  7.02 ,  6.74 ,  6.957,  7.415,  7.21 ,\n",
       "        6.15 ,  6.79 ,  7.059,  7.305,  7.395,  7.93 ,  7.99 ,  7.154,\n",
       "        6.09 ,  5.8  ])"
      ]
     },
     "execution_count": 40,
     "metadata": {},
     "output_type": "execute_result"
    }
   ],
   "source": [
    "# Find values in OrigInterestRate\n",
    "MSB_df.OrigInterestRate.unique()\n",
    "# The values check out here since we see that pandas imported this column as a float type."
   ]
  },
  {
   "cell_type": "code",
   "execution_count": 41,
   "metadata": {
    "colab": {
     "base_uri": "https://localhost:8080/"
    },
    "id": "YHZcMOI-MVSp",
    "outputId": "4cde7da3-1d0b-43bb-eec4-2bfa831413d6"
   },
   "outputs": [
    {
     "data": {
      "text/plain": [
       "array([360, 306, 335, 322, 327, 358, 355, 356, 354, 346, 344, 313, 316,\n",
       "       353, 319, 332, 336, 338, 312, 328, 351, 333, 359, 331, 337, 334,\n",
       "       345, 357, 330, 350, 341, 343, 348, 325, 326, 347, 352, 329, 339,\n",
       "       309, 317, 349, 342, 304, 324, 310, 340, 301, 305, 315, 323, 321,\n",
       "       320, 314, 318, 308, 303, 307, 361, 302, 311], dtype=int64)"
      ]
     },
     "execution_count": 41,
     "metadata": {},
     "output_type": "execute_result"
    }
   ],
   "source": [
    "# Find values in OrigLoanTerm\n",
    "MSB_df.OrigLoanTerm.unique()\n",
    "# The OrigLoanTerm values check out here."
   ]
  },
  {
   "cell_type": "code",
   "execution_count": 42,
   "metadata": {
    "colab": {
     "base_uri": "https://localhost:8080/"
    },
    "id": "0LHrzmMGMaHP",
    "outputId": "1754139d-b49f-4ffe-ec7f-0e35bc1ff8f3"
   },
   "outputs": [
    {
     "data": {
      "text/plain": [
       "array([0, 1], dtype=int64)"
      ]
     },
     "execution_count": 42,
     "metadata": {},
     "output_type": "execute_result"
    }
   ],
   "source": [
    "# Find values in EverDelinquent\n",
    "MSB_df.EverDelinquent.unique()\n",
    "# The EverDelinquent values check out here."
   ]
  },
  {
   "cell_type": "code",
   "execution_count": 43,
   "metadata": {
    "colab": {
     "base_uri": "https://localhost:8080/"
    },
    "id": "Go7-wexlMjBG",
    "outputId": "8429081c-198a-4769-e2e4-01d90c243490"
   },
   "outputs": [
    {
     "data": {
      "text/plain": [
       "array([ 52, 144,  67,  35,  54,  42,  44, 212,  37,  47,  53,  55,  66,\n",
       "        26,  38,  36,  39,  40,  11, 176,  46, 197, 210,  56, 118,  63,\n",
       "        24,  28,  91,  50,  22, 211, 199,  23,  30, 125,  41,  76,  49,\n",
       "        18,  19,  43,  60,  83,  95,  29,  45,  13,   6,  48,  62,  14,\n",
       "        15, 111,  51,  17,  75,  58,  27,  10,  31, 133, 165, 156,  33,\n",
       "        68, 205,  57, 159,  81, 191, 194, 114,  59, 100, 134, 128,  71,\n",
       "         7,  65,  74,  64,  79, 174, 195, 151,  34, 149,  21,  12, 137,\n",
       "       130,  70, 173, 166,  61, 160,  69,  20, 178,   3,  72, 147,   2,\n",
       "        32, 164, 139, 108, 148,  92, 209, 102,  87,  73, 123,  16, 142,\n",
       "         1, 172, 109, 141, 175, 103, 168,   5, 155, 177, 158, 138,  25,\n",
       "       110,  84, 136,   8, 121, 179,   4, 161, 157, 150,  80, 170,  77,\n",
       "         9, 183,  93, 143, 162, 126,  89, 208, 184,  82, 145, 117, 101,\n",
       "       122, 107, 193,  85,  78, 169, 104, 131, 140, 163, 112, 206, 135,\n",
       "       132, 124, 186, 127, 189, 190, 198, 192, 167, 146, 119,  99,  90,\n",
       "       201, 120,  96, 202, 116, 171,  88, 106,  94, 154,  86, 181, 203,\n",
       "       153,  97, 207, 182, 105, 188,  98, 185, 196, 129, 115, 152, 200,\n",
       "       113, 187, 180, 204], dtype=int64)"
      ]
     },
     "execution_count": 43,
     "metadata": {},
     "output_type": "execute_result"
    }
   ],
   "source": [
    "# Find values in MonthsInRepayment\n",
    "MSB_df.MonthsInRepayment.unique()\n",
    "# The MonthsInRepayment values check out here."
   ]
  },
  {
   "cell_type": "code",
   "execution_count": 44,
   "metadata": {
    "colab": {
     "base_uri": "https://localhost:8080/"
    },
    "id": "EG-qghFbN_k-",
    "outputId": "308d7487-66fd-4b43-bfd7-14d1f8dd9539"
   },
   "outputs": [
    {
     "data": {
      "text/plain": [
       "[4, NaN, 1, 2, 3]\n",
       "Categories (4, int64): [1 < 2 < 3 < 4]"
      ]
     },
     "execution_count": 44,
     "metadata": {},
     "output_type": "execute_result"
    }
   ],
   "source": [
    "# Create new variable for Credit Range since that is commonly what is looked at in the industry.\n",
    "# New values = Poor (0-650), Fair (650-700), Good (700-750), Excellent (750-900)\n",
    "MSB_df['CreditRange'] = pd.cut(MSB_df.CreditScore,[550,650,700,750,1e6],4,labels=[1,2,3,4])\n",
    "MSB_df.CreditRange.unique()"
   ]
  },
  {
   "cell_type": "code",
   "execution_count": 45,
   "metadata": {
    "colab": {
     "base_uri": "https://localhost:8080/"
    },
    "id": "-fBHQPIHOlem",
    "outputId": "d6e1cff0-e851-4ad3-d820-7c604c6f5002"
   },
   "outputs": [
    {
     "data": {
      "text/plain": [
       "3    71011\n",
       "4    55852\n",
       "2    53526\n",
       "1    27641\n",
       "Name: CreditRange, dtype: int64"
      ]
     },
     "execution_count": 45,
     "metadata": {},
     "output_type": "execute_result"
    }
   ],
   "source": [
    "MSB_df['CreditRange'].value_counts()"
   ]
  },
  {
   "cell_type": "code",
   "execution_count": 46,
   "metadata": {
    "colab": {
     "base_uri": "https://localhost:8080/"
    },
    "id": "eHjeAvOvOviV",
    "outputId": "00180e55-7eb8-48d5-804d-f38790101faf"
   },
   "outputs": [
    {
     "data": {
      "text/plain": [
       "['High', 'Medium', 'Low', NaN]\n",
       "Categories (3, object): ['Low' < 'Medium' < 'High']"
      ]
     },
     "execution_count": 46,
     "metadata": {},
     "output_type": "execute_result"
    }
   ],
   "source": [
    "# Create new variable for LTV Range\n",
    "MSB_df['LTV_range'] = pd.cut(MSB_df.LTV,[0,25,50,1000],3,labels=['Low','Medium','High'])\n",
    "MSB_df.LTV_range.unique()"
   ]
  },
  {
   "cell_type": "code",
   "execution_count": 47,
   "metadata": {
    "colab": {
     "base_uri": "https://localhost:8080/"
    },
    "id": "IUS2lcgjPPpo",
    "outputId": "30214979-3531-4d20-a71b-dbca1dae2398"
   },
   "outputs": [
    {
     "name": "stdout",
     "output_type": "stream",
     "text": [
      "Is there a Null value in LTV? True\n",
      "Dataframe shape: (208541, 15)\n"
     ]
    },
    {
     "data": {
      "text/plain": [
       "High      194439\n",
       "Medium     12788\n",
       "Low         1311\n",
       "Name: LTV_range, dtype: int64"
      ]
     },
     "execution_count": 47,
     "metadata": {},
     "output_type": "execute_result"
    }
   ],
   "source": [
    "# We get a NaN null return as a possible value\n",
    "# Checking to ensure this is accurate\n",
    "print('Is there a Null value in LTV?', MSB_df['LTV_range'].isnull().values.any())\n",
    "print('Dataframe shape:', MSB_df.shape)\n",
    "MSB_df['LTV_range'].value_counts()"
   ]
  },
  {
   "cell_type": "markdown",
   "metadata": {
    "id": "U4I87xOyP3ae"
   },
   "source": [
    "Here we can 3 NaN values are present so, we need need to remove or fill with with 0."
   ]
  },
  {
   "cell_type": "code",
   "execution_count": 48,
   "metadata": {
    "colab": {
     "base_uri": "https://localhost:8080/"
    },
    "id": "OgjI7qFFPY1i",
    "outputId": "a60e8e0c-684f-4fae-f2b0-2fe07394e979"
   },
   "outputs": [
    {
     "data": {
      "text/plain": [
       "array([False, False, False, ..., False, False, False])"
      ]
     },
     "execution_count": 48,
     "metadata": {},
     "output_type": "execute_result"
    }
   ],
   "source": [
    "# We need to find where these 3 Nan values are.\n",
    "inds = pd.isnull(MSB_df).any(1)\n",
    "pd.isnull(MSB_df).any(1).values"
   ]
  },
  {
   "cell_type": "code",
   "execution_count": 49,
   "metadata": {
    "colab": {
     "base_uri": "https://localhost:8080/"
    },
    "id": "ysRSyBSYQzrc",
    "outputId": "09032587-6ac6-4efd-82d9-641dff7caa8d"
   },
   "outputs": [
    {
     "name": "stdout",
     "output_type": "stream",
     "text": [
      "Is there a Null value in LTV? False\n",
      "Dataframe shape: (208538, 15)\n"
     ]
    },
    {
     "data": {
      "text/plain": [
       "High      194439\n",
       "Medium     12788\n",
       "Low         1311\n",
       "Name: LTV_range, dtype: int64"
      ]
     },
     "execution_count": 49,
     "metadata": {},
     "output_type": "execute_result"
    }
   ],
   "source": [
    "# Drop the specific rows with Nan for LTV_range as this will be an issue later on.\n",
    "MSB_df = MSB_df[MSB_df['LTV_range'].notna()]\n",
    "print('Is there a Null value in LTV?', MSB_df['LTV_range'].isnull().values.any())\n",
    "print('Dataframe shape:', MSB_df.shape)\n",
    "MSB_df['LTV_range'].value_counts()"
   ]
  },
  {
   "cell_type": "code",
   "execution_count": 50,
   "metadata": {
    "colab": {
     "base_uri": "https://localhost:8080/"
    },
    "id": "3fHxFBi4WsOD",
    "outputId": "a194ea0d-52a3-4aaa-e570-3eee9ecc9554"
   },
   "outputs": [
    {
     "name": "stdout",
     "output_type": "stream",
     "text": [
      "Dataframe shape: (208538, 16)\n",
      "Repay_range values: ['4-8yrs', '8-12yrs', '0-4yrs', '16-20yrs', '12-16yrs']\n",
      "Categories (5, object): ['0-4yrs' < '4-8yrs' < '8-12yrs' < '12-16yrs' < '16-20yrs']\n"
     ]
    },
    {
     "data": {
      "text/plain": [
       "0-4yrs      106636\n",
       "4-8yrs       71914\n",
       "8-12yrs      13345\n",
       "12-16yrs      8539\n",
       "16-20yrs      8104\n",
       "Name: Repay_range, dtype: int64"
      ]
     },
     "execution_count": 50,
     "metadata": {},
     "output_type": "execute_result"
    }
   ],
   "source": [
    "# Create new variable Repay range\n",
    "MSB_df['Repay_range'] = pd.cut(MSB_df.MonthsInRepayment,[0,48,96,144,192,240],5,\n",
    "                           labels=['0-4yrs','4-8yrs','8-12yrs', '12-16yrs', '16-20yrs'])\n",
    "print('Dataframe shape:', MSB_df.shape)\n",
    "print('Repay_range values:', MSB_df.Repay_range.unique())\n",
    "MSB_df['Repay_range'].value_counts()"
   ]
  },
  {
   "cell_type": "code",
   "execution_count": 51,
   "metadata": {
    "colab": {
     "base_uri": "https://localhost:8080/"
    },
    "id": "q4tvSje7W33A",
    "outputId": "edd037ad-d939-4654-d18a-998414f3c05f"
   },
   "outputs": [
    {
     "name": "stdout",
     "output_type": "stream",
     "text": [
      "Dataframe shape: (208027, 16)\n",
      "Are there any null values in our dataframe (T/F)? False\n",
      "<class 'pandas.core.frame.DataFrame'>\n",
      "Int64Index: 208027 entries, 0 to 291450\n",
      "Data columns (total 16 columns):\n",
      " #   Column             Non-Null Count   Dtype   \n",
      "---  ------             --------------   -----   \n",
      " 0   CreditScore        208027 non-null  int64   \n",
      " 1   IsFirstTime        208027 non-null  int32   \n",
      " 2   MIP                208027 non-null  int64   \n",
      " 3   OCLTV              208027 non-null  int64   \n",
      " 4   DTI                208027 non-null  int64   \n",
      " 5   LTV                208027 non-null  int64   \n",
      " 6   OrigInterestRate   208027 non-null  float64 \n",
      " 7   PPM                208027 non-null  int32   \n",
      " 8   OrigLoanTerm       208027 non-null  int64   \n",
      " 9   NumBorrowers       208027 non-null  object  \n",
      " 10  EverDelinquent     208027 non-null  int64   \n",
      " 11  MonthsDelinquent   208027 non-null  int64   \n",
      " 12  MonthsInRepayment  208027 non-null  int64   \n",
      " 13  CreditRange        208027 non-null  category\n",
      " 14  LTV_range          208027 non-null  category\n",
      " 15  Repay_range        208027 non-null  category\n",
      "dtypes: category(3), float64(1), int32(2), int64(9), object(1)\n",
      "memory usage: 21.2+ MB\n"
     ]
    }
   ],
   "source": [
    "# Final check of our dataframe before moving on.\n",
    "MSB_df = MSB_df.dropna()\n",
    "print('Dataframe shape:', MSB_df.shape)\n",
    "print('Are there any null values in our dataframe (T/F)?', MSB_df.isnull().values.any())\n",
    "MSB_df.info()"
   ]
  },
  {
   "cell_type": "code",
   "execution_count": 52,
   "metadata": {
    "colab": {
     "base_uri": "https://localhost:8080/",
     "height": 297
    },
    "id": "hXyUgnYgC4QW",
    "outputId": "aff16f83-b87d-4987-dc75-a1616b74f6f0"
   },
   "outputs": [
    {
     "data": {
      "text/plain": [
       "<AxesSubplot:xlabel='LTV_range', ylabel='count'>"
      ]
     },
     "execution_count": 52,
     "metadata": {},
     "output_type": "execute_result"
    },
    {
     "data": {
      "image/png": "[encoded data removed]",
      "text/plain": [
       "<Figure size 432x288 with 1 Axes>"
      ]
     },
     "metadata": {
      "needs_background": "light"
     },
     "output_type": "display_data"
    }
   ],
   "source": [
    "sns.countplot(data=MSB_df, x='LTV_range', hue='Repay_range')"
   ]
  },
  {
   "cell_type": "markdown",
   "metadata": {
    "id": "CpXA4NbD9i_R"
   },
   "source": [
    "# **Visualize Results**"
   ]
  },
  {
   "cell_type": "code",
   "execution_count": 53,
   "metadata": {
    "colab": {
     "base_uri": "https://localhost:8080/",
     "height": 223
    },
    "id": "cdv4n6kZUN6-",
    "outputId": "5b806fc7-f9ac-4820-d64a-cf29b3aefaca"
   },
   "outputs": [
    {
     "data": {
      "text/html": [
       "<div>\n",
       "<style scoped>\n",
       "    .dataframe tbody tr th:only-of-type {\n",
       "        vertical-align: middle;\n",
       "    }\n",
       "\n",
       "    .dataframe tbody tr th {\n",
       "        vertical-align: top;\n",
       "    }\n",
       "\n",
       "    .dataframe thead th {\n",
       "        text-align: right;\n",
       "    }\n",
       "</style>\n",
       "<table border=\"1\" class=\"dataframe\">\n",
       "  <thead>\n",
       "    <tr style=\"text-align: right;\">\n",
       "      <th></th>\n",
       "      <th>CreditScore</th>\n",
       "      <th>IsFirstTime</th>\n",
       "      <th>MIP</th>\n",
       "      <th>OCLTV</th>\n",
       "      <th>DTI</th>\n",
       "      <th>LTV</th>\n",
       "      <th>OrigInterestRate</th>\n",
       "      <th>PPM</th>\n",
       "      <th>OrigLoanTerm</th>\n",
       "      <th>NumBorrowers</th>\n",
       "      <th>EverDelinquent</th>\n",
       "      <th>MonthsDelinquent</th>\n",
       "      <th>MonthsInRepayment</th>\n",
       "      <th>CreditRange</th>\n",
       "      <th>LTV_range</th>\n",
       "      <th>Repay_range</th>\n",
       "    </tr>\n",
       "  </thead>\n",
       "  <tbody>\n",
       "    <tr>\n",
       "      <th>0</th>\n",
       "      <td>850</td>\n",
       "      <td>0</td>\n",
       "      <td>25</td>\n",
       "      <td>89</td>\n",
       "      <td>27</td>\n",
       "      <td>89</td>\n",
       "      <td>6.750</td>\n",
       "      <td>0</td>\n",
       "      <td>360</td>\n",
       "      <td>2</td>\n",
       "      <td>0</td>\n",
       "      <td>0</td>\n",
       "      <td>52</td>\n",
       "      <td>4</td>\n",
       "      <td>High</td>\n",
       "      <td>4-8yrs</td>\n",
       "    </tr>\n",
       "    <tr>\n",
       "      <th>1</th>\n",
       "      <td>850</td>\n",
       "      <td>0</td>\n",
       "      <td>0</td>\n",
       "      <td>73</td>\n",
       "      <td>17</td>\n",
       "      <td>73</td>\n",
       "      <td>6.500</td>\n",
       "      <td>0</td>\n",
       "      <td>360</td>\n",
       "      <td>1</td>\n",
       "      <td>0</td>\n",
       "      <td>0</td>\n",
       "      <td>144</td>\n",
       "      <td>4</td>\n",
       "      <td>High</td>\n",
       "      <td>8-12yrs</td>\n",
       "    </tr>\n",
       "    <tr>\n",
       "      <th>2</th>\n",
       "      <td>850</td>\n",
       "      <td>0</td>\n",
       "      <td>0</td>\n",
       "      <td>75</td>\n",
       "      <td>16</td>\n",
       "      <td>75</td>\n",
       "      <td>6.875</td>\n",
       "      <td>0</td>\n",
       "      <td>360</td>\n",
       "      <td>2</td>\n",
       "      <td>0</td>\n",
       "      <td>0</td>\n",
       "      <td>67</td>\n",
       "      <td>4</td>\n",
       "      <td>High</td>\n",
       "      <td>4-8yrs</td>\n",
       "    </tr>\n",
       "    <tr>\n",
       "      <th>3</th>\n",
       "      <td>850</td>\n",
       "      <td>0</td>\n",
       "      <td>0</td>\n",
       "      <td>76</td>\n",
       "      <td>14</td>\n",
       "      <td>76</td>\n",
       "      <td>6.875</td>\n",
       "      <td>0</td>\n",
       "      <td>360</td>\n",
       "      <td>2</td>\n",
       "      <td>0</td>\n",
       "      <td>0</td>\n",
       "      <td>35</td>\n",
       "      <td>4</td>\n",
       "      <td>High</td>\n",
       "      <td>0-4yrs</td>\n",
       "    </tr>\n",
       "    <tr>\n",
       "      <th>4</th>\n",
       "      <td>850</td>\n",
       "      <td>0</td>\n",
       "      <td>0</td>\n",
       "      <td>78</td>\n",
       "      <td>18</td>\n",
       "      <td>78</td>\n",
       "      <td>7.125</td>\n",
       "      <td>0</td>\n",
       "      <td>360</td>\n",
       "      <td>2</td>\n",
       "      <td>0</td>\n",
       "      <td>0</td>\n",
       "      <td>54</td>\n",
       "      <td>4</td>\n",
       "      <td>High</td>\n",
       "      <td>4-8yrs</td>\n",
       "    </tr>\n",
       "  </tbody>\n",
       "</table>\n",
       "</div>"
      ],
      "text/plain": [
       "   CreditScore  IsFirstTime  MIP  OCLTV  DTI  LTV  OrigInterestRate  PPM  \\\n",
       "0          850            0   25     89   27   89             6.750    0   \n",
       "1          850            0    0     73   17   73             6.500    0   \n",
       "2          850            0    0     75   16   75             6.875    0   \n",
       "3          850            0    0     76   14   76             6.875    0   \n",
       "4          850            0    0     78   18   78             7.125    0   \n",
       "\n",
       "   OrigLoanTerm NumBorrowers  EverDelinquent  MonthsDelinquent  \\\n",
       "0           360            2               0                 0   \n",
       "1           360            1               0                 0   \n",
       "2           360            2               0                 0   \n",
       "3           360            2               0                 0   \n",
       "4           360            2               0                 0   \n",
       "\n",
       "   MonthsInRepayment CreditRange LTV_range Repay_range  \n",
       "0                 52           4      High      4-8yrs  \n",
       "1                144           4      High     8-12yrs  \n",
       "2                 67           4      High      4-8yrs  \n",
       "3                 35           4      High      0-4yrs  \n",
       "4                 54           4      High      4-8yrs  "
      ]
     },
     "execution_count": 53,
     "metadata": {},
     "output_type": "execute_result"
    }
   ],
   "source": [
    "MSB_df.head()"
   ]
  },
  {
   "cell_type": "code",
   "execution_count": 54,
   "metadata": {
    "colab": {
     "base_uri": "https://localhost:8080/",
     "height": 279
    },
    "id": "nIIDn2RKkPwK",
    "outputId": "120c4c90-ac04-4b13-8322-c6ebd2804f98"
   },
   "outputs": [
    {
     "data": {
      "image/png": "[encoded data removed]",
      "text/plain": [
       "<Figure size 432x288 with 1 Axes>"
      ]
     },
     "metadata": {
      "needs_background": "light"
     },
     "output_type": "display_data"
    }
   ],
   "source": [
    "# visualize the target variable\n",
    "g = sns.countplot(MSB_df['EverDelinquent'])\n",
    "g.set_xticklabels(['0','1'])\n",
    "plt.show()"
   ]
  },
  {
   "cell_type": "code",
   "execution_count": 55,
   "metadata": {
    "colab": {
     "base_uri": "https://localhost:8080/"
    },
    "id": "ay63wY-fh8HX",
    "outputId": "08f757df-ab2a-4428-9cb1-476dc1710bb5"
   },
   "outputs": [
    {
     "data": {
      "text/plain": [
       "0    167530\n",
       "1     40497\n",
       "Name: EverDelinquent, dtype: int64"
      ]
     },
     "execution_count": 55,
     "metadata": {},
     "output_type": "execute_result"
    }
   ],
   "source": [
    "#Value Count\n",
    "MSB_df['EverDelinquent'].value_counts()"
   ]
  },
  {
   "cell_type": "code",
   "execution_count": 56,
   "metadata": {
    "colab": {
     "base_uri": "https://localhost:8080/",
     "height": 331
    },
    "id": "5TbiJoXig-ZU",
    "outputId": "74b592e2-4e8b-41be-bf92-ce51eade3e9f"
   },
   "outputs": [
    {
     "data": {
      "text/plain": [
       "array([[<AxesSubplot:title={'center':'EverDelinquent'}>,\n",
       "        <AxesSubplot:title={'center':'MonthsDelinquent'}>]], dtype=object)"
      ]
     },
     "execution_count": 56,
     "metadata": {},
     "output_type": "execute_result"
    },
    {
     "data": {
      "image/png": "[encoded data removed]",
      "text/plain": [
       "<Figure size 432x288 with 2 Axes>"
      ]
     },
     "metadata": {
      "needs_background": "light"
     },
     "output_type": "display_data"
    }
   ],
   "source": [
    "MSB_df.hist(column=['EverDelinquent','MonthsDelinquent'])"
   ]
  },
  {
   "cell_type": "code",
   "execution_count": 57,
   "metadata": {
    "colab": {
     "base_uri": "https://localhost:8080/"
    },
    "id": "jVu1cq6CiNkT",
    "outputId": "5c5b381e-bf4c-4dce-dde2-bdccd1091644"
   },
   "outputs": [
    {
     "data": {
      "text/plain": [
       "0      167530\n",
       "1       16377\n",
       "2        5279\n",
       "3        2705\n",
       "4        1683\n",
       "        ...  \n",
       "138         1\n",
       "180         1\n",
       "150         1\n",
       "163         1\n",
       "154         1\n",
       "Name: MonthsDelinquent, Length: 172, dtype: int64"
      ]
     },
     "execution_count": 57,
     "metadata": {},
     "output_type": "execute_result"
    }
   ],
   "source": [
    "MSB_df['MonthsDelinquent'].value_counts()"
   ]
  },
  {
   "cell_type": "markdown",
   "metadata": {
    "id": "jN3Jkc8AgJOI"
   },
   "source": [
    "Here the target Variables are EverDelinquent and MonthsDelinquent, \n",
    "We can see here the dataset is imbalance"
   ]
  },
  {
   "cell_type": "code",
   "execution_count": 58,
   "metadata": {
    "colab": {
     "base_uri": "https://localhost:8080/",
     "height": 162
    },
    "id": "yGn0dC7Hog8x",
    "outputId": "2879328d-10f0-4af4-b3d4-f491840a9536"
   },
   "outputs": [
    {
     "data": {
      "text/html": [
       "<div>\n",
       "<style scoped>\n",
       "    .dataframe tbody tr th:only-of-type {\n",
       "        vertical-align: middle;\n",
       "    }\n",
       "\n",
       "    .dataframe tbody tr th {\n",
       "        vertical-align: top;\n",
       "    }\n",
       "\n",
       "    .dataframe thead th {\n",
       "        text-align: right;\n",
       "    }\n",
       "</style>\n",
       "<table border=\"1\" class=\"dataframe\">\n",
       "  <thead>\n",
       "    <tr style=\"text-align: right;\">\n",
       "      <th></th>\n",
       "      <th>CreditScore</th>\n",
       "      <th>IsFirstTime</th>\n",
       "      <th>MIP</th>\n",
       "      <th>OCLTV</th>\n",
       "      <th>DTI</th>\n",
       "      <th>LTV</th>\n",
       "      <th>OrigInterestRate</th>\n",
       "      <th>PPM</th>\n",
       "      <th>OrigLoanTerm</th>\n",
       "      <th>NumBorrowers</th>\n",
       "      <th>EverDelinquent</th>\n",
       "      <th>MonthsDelinquent</th>\n",
       "      <th>MonthsInRepayment</th>\n",
       "      <th>CreditRange</th>\n",
       "      <th>LTV_range</th>\n",
       "      <th>Repay_range</th>\n",
       "    </tr>\n",
       "  </thead>\n",
       "  <tbody>\n",
       "    <tr>\n",
       "      <th>0</th>\n",
       "      <td>850</td>\n",
       "      <td>0</td>\n",
       "      <td>25</td>\n",
       "      <td>89</td>\n",
       "      <td>27</td>\n",
       "      <td>89</td>\n",
       "      <td>6.750</td>\n",
       "      <td>0</td>\n",
       "      <td>360</td>\n",
       "      <td>2</td>\n",
       "      <td>0</td>\n",
       "      <td>0</td>\n",
       "      <td>52</td>\n",
       "      <td>4</td>\n",
       "      <td>2</td>\n",
       "      <td>4-8yrs</td>\n",
       "    </tr>\n",
       "    <tr>\n",
       "      <th>1</th>\n",
       "      <td>850</td>\n",
       "      <td>0</td>\n",
       "      <td>0</td>\n",
       "      <td>73</td>\n",
       "      <td>17</td>\n",
       "      <td>73</td>\n",
       "      <td>6.500</td>\n",
       "      <td>0</td>\n",
       "      <td>360</td>\n",
       "      <td>1</td>\n",
       "      <td>0</td>\n",
       "      <td>0</td>\n",
       "      <td>144</td>\n",
       "      <td>4</td>\n",
       "      <td>2</td>\n",
       "      <td>8-12yrs</td>\n",
       "    </tr>\n",
       "    <tr>\n",
       "      <th>2</th>\n",
       "      <td>850</td>\n",
       "      <td>0</td>\n",
       "      <td>0</td>\n",
       "      <td>75</td>\n",
       "      <td>16</td>\n",
       "      <td>75</td>\n",
       "      <td>6.875</td>\n",
       "      <td>0</td>\n",
       "      <td>360</td>\n",
       "      <td>2</td>\n",
       "      <td>0</td>\n",
       "      <td>0</td>\n",
       "      <td>67</td>\n",
       "      <td>4</td>\n",
       "      <td>2</td>\n",
       "      <td>4-8yrs</td>\n",
       "    </tr>\n",
       "  </tbody>\n",
       "</table>\n",
       "</div>"
      ],
      "text/plain": [
       "   CreditScore  IsFirstTime  MIP  OCLTV  DTI  LTV  OrigInterestRate  PPM  \\\n",
       "0          850            0   25     89   27   89             6.750    0   \n",
       "1          850            0    0     73   17   73             6.500    0   \n",
       "2          850            0    0     75   16   75             6.875    0   \n",
       "\n",
       "   OrigLoanTerm NumBorrowers  EverDelinquent  MonthsDelinquent  \\\n",
       "0           360            2               0                 0   \n",
       "1           360            1               0                 0   \n",
       "2           360            2               0                 0   \n",
       "\n",
       "   MonthsInRepayment CreditRange LTV_range Repay_range  \n",
       "0                 52           4         2      4-8yrs  \n",
       "1                144           4         2     8-12yrs  \n",
       "2                 67           4         2      4-8yrs  "
      ]
     },
     "execution_count": 58,
     "metadata": {},
     "output_type": "execute_result"
    }
   ],
   "source": [
    "#Now convert LTV_range into numeric\n",
    "LTV_range_dict={'High':2,'Medium':1,'Low':0}\n",
    "MSB_df['LTV_range']=MSB_df.LTV_range.map(LTV_range_dict)\n",
    "MSB_df.head(3)"
   ]
  },
  {
   "cell_type": "code",
   "execution_count": 59,
   "metadata": {
    "colab": {
     "base_uri": "https://localhost:8080/",
     "height": 130
    },
    "id": "bYknGkt2p22u",
    "outputId": "36a4ebda-2925-4681-a7dd-510d99ccf8ae"
   },
   "outputs": [
    {
     "data": {
      "text/html": [
       "<div>\n",
       "<style scoped>\n",
       "    .dataframe tbody tr th:only-of-type {\n",
       "        vertical-align: middle;\n",
       "    }\n",
       "\n",
       "    .dataframe tbody tr th {\n",
       "        vertical-align: top;\n",
       "    }\n",
       "\n",
       "    .dataframe thead th {\n",
       "        text-align: right;\n",
       "    }\n",
       "</style>\n",
       "<table border=\"1\" class=\"dataframe\">\n",
       "  <thead>\n",
       "    <tr style=\"text-align: right;\">\n",
       "      <th></th>\n",
       "      <th>CreditScore</th>\n",
       "      <th>IsFirstTime</th>\n",
       "      <th>MIP</th>\n",
       "      <th>OCLTV</th>\n",
       "      <th>DTI</th>\n",
       "      <th>LTV</th>\n",
       "      <th>OrigInterestRate</th>\n",
       "      <th>PPM</th>\n",
       "      <th>OrigLoanTerm</th>\n",
       "      <th>NumBorrowers</th>\n",
       "      <th>EverDelinquent</th>\n",
       "      <th>MonthsDelinquent</th>\n",
       "      <th>MonthsInRepayment</th>\n",
       "      <th>CreditRange</th>\n",
       "      <th>LTV_range</th>\n",
       "      <th>Repay_range</th>\n",
       "    </tr>\n",
       "  </thead>\n",
       "  <tbody>\n",
       "    <tr>\n",
       "      <th>0</th>\n",
       "      <td>850</td>\n",
       "      <td>0</td>\n",
       "      <td>25</td>\n",
       "      <td>89</td>\n",
       "      <td>27</td>\n",
       "      <td>89</td>\n",
       "      <td>6.75</td>\n",
       "      <td>0</td>\n",
       "      <td>360</td>\n",
       "      <td>2</td>\n",
       "      <td>0</td>\n",
       "      <td>0</td>\n",
       "      <td>52</td>\n",
       "      <td>4</td>\n",
       "      <td>2</td>\n",
       "      <td>2</td>\n",
       "    </tr>\n",
       "    <tr>\n",
       "      <th>1</th>\n",
       "      <td>850</td>\n",
       "      <td>0</td>\n",
       "      <td>0</td>\n",
       "      <td>73</td>\n",
       "      <td>17</td>\n",
       "      <td>73</td>\n",
       "      <td>6.50</td>\n",
       "      <td>0</td>\n",
       "      <td>360</td>\n",
       "      <td>1</td>\n",
       "      <td>0</td>\n",
       "      <td>0</td>\n",
       "      <td>144</td>\n",
       "      <td>4</td>\n",
       "      <td>2</td>\n",
       "      <td>3</td>\n",
       "    </tr>\n",
       "  </tbody>\n",
       "</table>\n",
       "</div>"
      ],
      "text/plain": [
       "   CreditScore  IsFirstTime  MIP  OCLTV  DTI  LTV  OrigInterestRate  PPM  \\\n",
       "0          850            0   25     89   27   89              6.75    0   \n",
       "1          850            0    0     73   17   73              6.50    0   \n",
       "\n",
       "   OrigLoanTerm NumBorrowers  EverDelinquent  MonthsDelinquent  \\\n",
       "0           360            2               0                 0   \n",
       "1           360            1               0                 0   \n",
       "\n",
       "   MonthsInRepayment CreditRange LTV_range Repay_range  \n",
       "0                 52           4         2           2  \n",
       "1                144           4         2           3  "
      ]
     },
     "execution_count": 59,
     "metadata": {},
     "output_type": "execute_result"
    }
   ],
   "source": [
    "#Convert Repay_range into numeric\n",
    "Repay_range_dict={'0-4yrs':0,'4-8yrs':2,'8-12yrs':3, '12-16yrs':4, '16-20yrs':5}\n",
    "MSB_df['Repay_range']=MSB_df.Repay_range.map(Repay_range_dict)\n",
    "MSB_df.head(2)"
   ]
  },
  {
   "cell_type": "code",
   "execution_count": 60,
   "metadata": {
    "colab": {
     "base_uri": "https://localhost:8080/"
    },
    "id": "pThxxxg55wo4",
    "outputId": "a83b96b0-aa64-450d-8dc3-63aab96089e2"
   },
   "outputs": [
    {
     "data": {
      "text/plain": [
       "array(['2', '1', 'X '], dtype=object)"
      ]
     },
     "execution_count": 60,
     "metadata": {},
     "output_type": "execute_result"
    }
   ],
   "source": [
    "MSB_df.NumBorrowers.unique()"
   ]
  },
  {
   "cell_type": "code",
   "execution_count": 61,
   "metadata": {
    "id": "C7ct_8Er69tQ"
   },
   "outputs": [],
   "source": [
    "MSB_df['NumBorrowers'] = MSB_df['NumBorrowers'].fillna(0)\n",
    "MSB_df['NumBorrowers'] = MSB_df['NumBorrowers'].replace('X ', 0)"
   ]
  },
  {
   "cell_type": "code",
   "execution_count": 62,
   "metadata": {
    "colab": {
     "base_uri": "https://localhost:8080/"
    },
    "id": "RYLleDdi8Czv",
    "outputId": "73eda6c1-b860-4397-9aa5-79ccf6090568"
   },
   "outputs": [
    {
     "data": {
      "text/plain": [
       "2    132583\n",
       "1     75271\n",
       "0       173\n",
       "Name: NumBorrowers, dtype: int64"
      ]
     },
     "execution_count": 62,
     "metadata": {},
     "output_type": "execute_result"
    }
   ],
   "source": [
    "MSB_df.NumBorrowers.value_counts()"
   ]
  },
  {
   "cell_type": "code",
   "execution_count": 63,
   "metadata": {
    "id": "avDrpeWP-XEs"
   },
   "outputs": [],
   "source": [
    "#Drop MonthsDelinquent Because it is highly correlated with EverDelinquent\n",
    "MSB_df.drop('MonthsDelinquent',inplace=True,axis=1)"
   ]
  },
  {
   "cell_type": "code",
   "execution_count": 64,
   "metadata": {
    "id": "m-D2aU734X2L"
   },
   "outputs": [],
   "source": [
    "#Convert category data into float \n",
    "MSB_df[\"CreditRange\"] = MSB_df[\"CreditRange\"].astype(int)\n",
    "MSB_df[\"LTV_range\"] = MSB_df[\"LTV_range\"].astype(int)\n",
    "MSB_df[\"Repay_range\"] = MSB_df[\"Repay_range\"].astype(int)\n",
    "MSB_df[\"NumBorrowers\"] = MSB_df[\"NumBorrowers\"].astype(int)"
   ]
  },
  {
   "cell_type": "code",
   "execution_count": 65,
   "metadata": {
    "colab": {
     "base_uri": "https://localhost:8080/"
    },
    "id": "sygQ9Jw6_8Zw",
    "outputId": "664e2786-5b2b-4e6e-c436-e30b4f8dcb75"
   },
   "outputs": [
    {
     "name": "stdout",
     "output_type": "stream",
     "text": [
      "<class 'pandas.core.frame.DataFrame'>\n",
      "Int64Index: 208027 entries, 0 to 291450\n",
      "Data columns (total 15 columns):\n",
      " #   Column             Non-Null Count   Dtype  \n",
      "---  ------             --------------   -----  \n",
      " 0   CreditScore        208027 non-null  int64  \n",
      " 1   IsFirstTime        208027 non-null  int32  \n",
      " 2   MIP                208027 non-null  int64  \n",
      " 3   OCLTV              208027 non-null  int64  \n",
      " 4   DTI                208027 non-null  int64  \n",
      " 5   LTV                208027 non-null  int64  \n",
      " 6   OrigInterestRate   208027 non-null  float64\n",
      " 7   PPM                208027 non-null  int32  \n",
      " 8   OrigLoanTerm       208027 non-null  int64  \n",
      " 9   NumBorrowers       208027 non-null  int32  \n",
      " 10  EverDelinquent     208027 non-null  int64  \n",
      " 11  MonthsInRepayment  208027 non-null  int64  \n",
      " 12  CreditRange        208027 non-null  int32  \n",
      " 13  LTV_range          208027 non-null  int32  \n",
      " 14  Repay_range        208027 non-null  int32  \n",
      "dtypes: float64(1), int32(6), int64(8)\n",
      "memory usage: 28.7 MB\n"
     ]
    }
   ],
   "source": [
    "MSB_df.info()"
   ]
  },
  {
   "cell_type": "code",
   "execution_count": 66,
   "metadata": {
    "colab": {
     "base_uri": "https://localhost:8080/",
     "height": 130
    },
    "id": "Mda8PrP00N5s",
    "outputId": "bd4ebd5d-e45c-4898-adbf-31ba0963a987"
   },
   "outputs": [
    {
     "data": {
      "text/html": [
       "<div>\n",
       "<style scoped>\n",
       "    .dataframe tbody tr th:only-of-type {\n",
       "        vertical-align: middle;\n",
       "    }\n",
       "\n",
       "    .dataframe tbody tr th {\n",
       "        vertical-align: top;\n",
       "    }\n",
       "\n",
       "    .dataframe thead th {\n",
       "        text-align: right;\n",
       "    }\n",
       "</style>\n",
       "<table border=\"1\" class=\"dataframe\">\n",
       "  <thead>\n",
       "    <tr style=\"text-align: right;\">\n",
       "      <th></th>\n",
       "      <th>CreditScore</th>\n",
       "      <th>IsFirstTime</th>\n",
       "      <th>MIP</th>\n",
       "      <th>OCLTV</th>\n",
       "      <th>DTI</th>\n",
       "      <th>LTV</th>\n",
       "      <th>OrigInterestRate</th>\n",
       "      <th>PPM</th>\n",
       "      <th>OrigLoanTerm</th>\n",
       "      <th>NumBorrowers</th>\n",
       "      <th>EverDelinquent</th>\n",
       "      <th>MonthsInRepayment</th>\n",
       "      <th>CreditRange</th>\n",
       "      <th>LTV_range</th>\n",
       "      <th>Repay_range</th>\n",
       "    </tr>\n",
       "  </thead>\n",
       "  <tbody>\n",
       "    <tr>\n",
       "      <th>0</th>\n",
       "      <td>850</td>\n",
       "      <td>0</td>\n",
       "      <td>25</td>\n",
       "      <td>89</td>\n",
       "      <td>27</td>\n",
       "      <td>89</td>\n",
       "      <td>6.75</td>\n",
       "      <td>0</td>\n",
       "      <td>360</td>\n",
       "      <td>2</td>\n",
       "      <td>0</td>\n",
       "      <td>52</td>\n",
       "      <td>4</td>\n",
       "      <td>2</td>\n",
       "      <td>2</td>\n",
       "    </tr>\n",
       "    <tr>\n",
       "      <th>1</th>\n",
       "      <td>850</td>\n",
       "      <td>0</td>\n",
       "      <td>0</td>\n",
       "      <td>73</td>\n",
       "      <td>17</td>\n",
       "      <td>73</td>\n",
       "      <td>6.50</td>\n",
       "      <td>0</td>\n",
       "      <td>360</td>\n",
       "      <td>1</td>\n",
       "      <td>0</td>\n",
       "      <td>144</td>\n",
       "      <td>4</td>\n",
       "      <td>2</td>\n",
       "      <td>3</td>\n",
       "    </tr>\n",
       "  </tbody>\n",
       "</table>\n",
       "</div>"
      ],
      "text/plain": [
       "   CreditScore  IsFirstTime  MIP  OCLTV  DTI  LTV  OrigInterestRate  PPM  \\\n",
       "0          850            0   25     89   27   89              6.75    0   \n",
       "1          850            0    0     73   17   73              6.50    0   \n",
       "\n",
       "   OrigLoanTerm  NumBorrowers  EverDelinquent  MonthsInRepayment  CreditRange  \\\n",
       "0           360             2               0                 52            4   \n",
       "1           360             1               0                144            4   \n",
       "\n",
       "   LTV_range  Repay_range  \n",
       "0          2            2  \n",
       "1          2            3  "
      ]
     },
     "execution_count": 66,
     "metadata": {},
     "output_type": "execute_result"
    }
   ],
   "source": [
    "MSB_df.head(2)"
   ]
  },
  {
   "cell_type": "markdown",
   "metadata": {
    "id": "9Q4tx_RCjR53"
   },
   "source": [
    "**Handling Imbalance Dataset:**"
   ]
  },
  {
   "cell_type": "markdown",
   "metadata": {
    "id": "h8OJqrlE1CuX"
   },
   "source": [
    "**Balance the target variable and dataset using SMOTE method**"
   ]
  },
  {
   "cell_type": "code",
   "execution_count": 67,
   "metadata": {
    "id": "ybw83twrpVZc"
   },
   "outputs": [],
   "source": [
    "#Input and target variables\n",
    "x=MSB_df.drop('EverDelinquent',axis=1)\n",
    "y=MSB_df.EverDelinquent\n",
    "\n",
    "#Training and test dataset split\n",
    "#from sklearn.model_selection import train_test_split\n",
    "#x_train,x_test,y_train,y_test=train_test_split(x,y,train_size=0.7,random_state=4)"
   ]
  },
  {
   "cell_type": "code",
   "execution_count": 68,
   "metadata": {
    "colab": {
     "base_uri": "https://localhost:8080/"
    },
    "id": "B-4GvkAnEHWS",
    "outputId": "e35af3e6-8ef0-4ba7-9943-8d32f58c690c"
   },
   "outputs": [
    {
     "name": "stdout",
     "output_type": "stream",
     "text": [
      "(208027, 14)\n",
      "(208027,)\n"
     ]
    }
   ],
   "source": [
    "print(x.shape)\n",
    "print(y.shape)"
   ]
  },
  {
   "cell_type": "markdown",
   "metadata": {
    "id": "JcExr-ptyF_D"
   },
   "source": [
    "#### #To handle ValueError : Could not convert into float:'X '\n",
    "#### #convert X into dataframe\n",
    "X_pd = pd.DataFrame(data=x)\n",
    "#### #replace all instances of URC with 0 \n",
    "X_replace = X_pd.replace('X ',0, regex=True)\n",
    "#### #convert it back to numpy array\n",
    "X_np = X_replace.values\n",
    "#### #set the object type as float\n",
    "X_fa = X_np.astype(float)"
   ]
  },
  {
   "cell_type": "code",
   "execution_count": 69,
   "metadata": {
    "colab": {
     "base_uri": "https://localhost:8080/"
    },
    "id": "0rryoUN0Qp2A",
    "outputId": "b5c2b00c-da2a-4490-a5d4-82d1a87a05a8"
   },
   "outputs": [
    {
     "data": {
      "text/plain": [
       "0         0\n",
       "1         0\n",
       "2         0\n",
       "3         0\n",
       "4         0\n",
       "         ..\n",
       "291446    0\n",
       "291447    0\n",
       "291448    0\n",
       "291449    0\n",
       "291450    0\n",
       "Name: EverDelinquent, Length: 208027, dtype: int64"
      ]
     },
     "execution_count": 69,
     "metadata": {},
     "output_type": "execute_result"
    }
   ],
   "source": [
    "y"
   ]
  },
  {
   "cell_type": "code",
   "execution_count": 70,
   "metadata": {
    "colab": {
     "base_uri": "https://localhost:8080/"
    },
    "id": "J2u7IcbUjekK",
    "outputId": "ea715a15-9735-4ae7-f45d-0a2e947ec669"
   },
   "outputs": [
    {
     "name": "stdout",
     "output_type": "stream",
     "text": [
      "Original dataset shape Counter({0: 167530, 1: 40497})\n",
      "Resample dataset shape Counter({0: 167530, 1: 167530})\n"
     ]
    }
   ],
   "source": [
    "#Using SMOTE(Synthetic Minority Oversampling Technique)\n",
    "# import library\n",
    "from collections import Counter\n",
    "from imblearn.over_sampling import SMOTE\n",
    "\n",
    "smote = SMOTE()\n",
    "\n",
    "# fit predictor and target variable\n",
    "#x_smote, y_smote = smote.fit_resample(x_train, y_train)\n",
    "x_smote, y_smote = smote.fit_resample(x, y)\n",
    "\n",
    "print(\"Original dataset shape {}\".format(Counter(y)))\n",
    "print(\"Resample dataset shape {}\".format(Counter(y_smote)))"
   ]
  },
  {
   "cell_type": "code",
   "execution_count": 71,
   "metadata": {
    "colab": {
     "base_uri": "https://localhost:8080/"
    },
    "id": "kToQBuusN3wl",
    "outputId": "1791afcb-14a7-404e-ecf2-c0e2e9b047bf"
   },
   "outputs": [
    {
     "data": {
      "text/plain": [
       "0         0\n",
       "1         0\n",
       "2         0\n",
       "3         0\n",
       "4         0\n",
       "         ..\n",
       "335055    1\n",
       "335056    1\n",
       "335057    1\n",
       "335058    1\n",
       "335059    1\n",
       "Name: EverDelinquent, Length: 335060, dtype: int64"
      ]
     },
     "execution_count": 71,
     "metadata": {},
     "output_type": "execute_result"
    }
   ],
   "source": [
    "y_smote"
   ]
  },
  {
   "cell_type": "code",
   "execution_count": 72,
   "metadata": {
    "colab": {
     "base_uri": "https://localhost:8080/"
    },
    "id": "YppC7kXLlj1_",
    "outputId": "89cfc1f1-a0f2-4a27-ca4f-fee06d83b166"
   },
   "outputs": [
    {
     "data": {
      "text/plain": [
       "(335060,)"
      ]
     },
     "execution_count": 72,
     "metadata": {},
     "output_type": "execute_result"
    }
   ],
   "source": [
    "y_smote.shape"
   ]
  },
  {
   "cell_type": "code",
   "execution_count": 73,
   "metadata": {
    "colab": {
     "base_uri": "https://localhost:8080/"
    },
    "id": "RoxmSgih1XHL",
    "outputId": "58681c7a-0f7b-4ec8-bb35-1534efbfbd5e"
   },
   "outputs": [
    {
     "data": {
      "text/html": [
       "<div>\n",
       "<style scoped>\n",
       "    .dataframe tbody tr th:only-of-type {\n",
       "        vertical-align: middle;\n",
       "    }\n",
       "\n",
       "    .dataframe tbody tr th {\n",
       "        vertical-align: top;\n",
       "    }\n",
       "\n",
       "    .dataframe thead th {\n",
       "        text-align: right;\n",
       "    }\n",
       "</style>\n",
       "<table border=\"1\" class=\"dataframe\">\n",
       "  <thead>\n",
       "    <tr style=\"text-align: right;\">\n",
       "      <th></th>\n",
       "      <th>CreditScore</th>\n",
       "      <th>IsFirstTime</th>\n",
       "      <th>MIP</th>\n",
       "      <th>OCLTV</th>\n",
       "      <th>DTI</th>\n",
       "      <th>LTV</th>\n",
       "      <th>OrigInterestRate</th>\n",
       "      <th>PPM</th>\n",
       "      <th>OrigLoanTerm</th>\n",
       "      <th>NumBorrowers</th>\n",
       "      <th>MonthsInRepayment</th>\n",
       "      <th>CreditRange</th>\n",
       "      <th>LTV_range</th>\n",
       "      <th>Repay_range</th>\n",
       "    </tr>\n",
       "  </thead>\n",
       "  <tbody>\n",
       "    <tr>\n",
       "      <th>0</th>\n",
       "      <td>850</td>\n",
       "      <td>0</td>\n",
       "      <td>25</td>\n",
       "      <td>89</td>\n",
       "      <td>27</td>\n",
       "      <td>89</td>\n",
       "      <td>6.750000</td>\n",
       "      <td>0</td>\n",
       "      <td>360</td>\n",
       "      <td>2</td>\n",
       "      <td>52</td>\n",
       "      <td>4</td>\n",
       "      <td>2</td>\n",
       "      <td>2</td>\n",
       "    </tr>\n",
       "    <tr>\n",
       "      <th>1</th>\n",
       "      <td>850</td>\n",
       "      <td>0</td>\n",
       "      <td>0</td>\n",
       "      <td>73</td>\n",
       "      <td>17</td>\n",
       "      <td>73</td>\n",
       "      <td>6.500000</td>\n",
       "      <td>0</td>\n",
       "      <td>360</td>\n",
       "      <td>1</td>\n",
       "      <td>144</td>\n",
       "      <td>4</td>\n",
       "      <td>2</td>\n",
       "      <td>3</td>\n",
       "    </tr>\n",
       "    <tr>\n",
       "      <th>2</th>\n",
       "      <td>850</td>\n",
       "      <td>0</td>\n",
       "      <td>0</td>\n",
       "      <td>75</td>\n",
       "      <td>16</td>\n",
       "      <td>75</td>\n",
       "      <td>6.875000</td>\n",
       "      <td>0</td>\n",
       "      <td>360</td>\n",
       "      <td>2</td>\n",
       "      <td>67</td>\n",
       "      <td>4</td>\n",
       "      <td>2</td>\n",
       "      <td>2</td>\n",
       "    </tr>\n",
       "    <tr>\n",
       "      <th>3</th>\n",
       "      <td>850</td>\n",
       "      <td>0</td>\n",
       "      <td>0</td>\n",
       "      <td>76</td>\n",
       "      <td>14</td>\n",
       "      <td>76</td>\n",
       "      <td>6.875000</td>\n",
       "      <td>0</td>\n",
       "      <td>360</td>\n",
       "      <td>2</td>\n",
       "      <td>35</td>\n",
       "      <td>4</td>\n",
       "      <td>2</td>\n",
       "      <td>0</td>\n",
       "    </tr>\n",
       "    <tr>\n",
       "      <th>4</th>\n",
       "      <td>850</td>\n",
       "      <td>0</td>\n",
       "      <td>0</td>\n",
       "      <td>78</td>\n",
       "      <td>18</td>\n",
       "      <td>78</td>\n",
       "      <td>7.125000</td>\n",
       "      <td>0</td>\n",
       "      <td>360</td>\n",
       "      <td>2</td>\n",
       "      <td>54</td>\n",
       "      <td>4</td>\n",
       "      <td>2</td>\n",
       "      <td>2</td>\n",
       "    </tr>\n",
       "    <tr>\n",
       "      <th>...</th>\n",
       "      <td>...</td>\n",
       "      <td>...</td>\n",
       "      <td>...</td>\n",
       "      <td>...</td>\n",
       "      <td>...</td>\n",
       "      <td>...</td>\n",
       "      <td>...</td>\n",
       "      <td>...</td>\n",
       "      <td>...</td>\n",
       "      <td>...</td>\n",
       "      <td>...</td>\n",
       "      <td>...</td>\n",
       "      <td>...</td>\n",
       "      <td>...</td>\n",
       "    </tr>\n",
       "    <tr>\n",
       "      <th>335055</th>\n",
       "      <td>632</td>\n",
       "      <td>0</td>\n",
       "      <td>0</td>\n",
       "      <td>80</td>\n",
       "      <td>17</td>\n",
       "      <td>80</td>\n",
       "      <td>6.931141</td>\n",
       "      <td>0</td>\n",
       "      <td>360</td>\n",
       "      <td>1</td>\n",
       "      <td>64</td>\n",
       "      <td>1</td>\n",
       "      <td>2</td>\n",
       "      <td>2</td>\n",
       "    </tr>\n",
       "    <tr>\n",
       "      <th>335056</th>\n",
       "      <td>619</td>\n",
       "      <td>0</td>\n",
       "      <td>0</td>\n",
       "      <td>63</td>\n",
       "      <td>43</td>\n",
       "      <td>63</td>\n",
       "      <td>7.215182</td>\n",
       "      <td>0</td>\n",
       "      <td>360</td>\n",
       "      <td>2</td>\n",
       "      <td>190</td>\n",
       "      <td>1</td>\n",
       "      <td>2</td>\n",
       "      <td>4</td>\n",
       "    </tr>\n",
       "    <tr>\n",
       "      <th>335057</th>\n",
       "      <td>695</td>\n",
       "      <td>0</td>\n",
       "      <td>0</td>\n",
       "      <td>39</td>\n",
       "      <td>37</td>\n",
       "      <td>39</td>\n",
       "      <td>6.629781</td>\n",
       "      <td>0</td>\n",
       "      <td>360</td>\n",
       "      <td>2</td>\n",
       "      <td>119</td>\n",
       "      <td>2</td>\n",
       "      <td>1</td>\n",
       "      <td>3</td>\n",
       "    </tr>\n",
       "    <tr>\n",
       "      <th>335058</th>\n",
       "      <td>622</td>\n",
       "      <td>1</td>\n",
       "      <td>0</td>\n",
       "      <td>95</td>\n",
       "      <td>29</td>\n",
       "      <td>95</td>\n",
       "      <td>6.815714</td>\n",
       "      <td>0</td>\n",
       "      <td>360</td>\n",
       "      <td>1</td>\n",
       "      <td>49</td>\n",
       "      <td>1</td>\n",
       "      <td>2</td>\n",
       "      <td>2</td>\n",
       "    </tr>\n",
       "    <tr>\n",
       "      <th>335059</th>\n",
       "      <td>665</td>\n",
       "      <td>0</td>\n",
       "      <td>25</td>\n",
       "      <td>90</td>\n",
       "      <td>37</td>\n",
       "      <td>90</td>\n",
       "      <td>6.840617</td>\n",
       "      <td>0</td>\n",
       "      <td>360</td>\n",
       "      <td>2</td>\n",
       "      <td>61</td>\n",
       "      <td>2</td>\n",
       "      <td>2</td>\n",
       "      <td>2</td>\n",
       "    </tr>\n",
       "  </tbody>\n",
       "</table>\n",
       "<p>335060 rows × 14 columns</p>\n",
       "</div>"
      ],
      "text/plain": [
       "        CreditScore  IsFirstTime  MIP  OCLTV  DTI  LTV  OrigInterestRate  PPM  \\\n",
       "0               850            0   25     89   27   89          6.750000    0   \n",
       "1               850            0    0     73   17   73          6.500000    0   \n",
       "2               850            0    0     75   16   75          6.875000    0   \n",
       "3               850            0    0     76   14   76          6.875000    0   \n",
       "4               850            0    0     78   18   78          7.125000    0   \n",
       "...             ...          ...  ...    ...  ...  ...               ...  ...   \n",
       "335055          632            0    0     80   17   80          6.931141    0   \n",
       "335056          619            0    0     63   43   63          7.215182    0   \n",
       "335057          695            0    0     39   37   39          6.629781    0   \n",
       "335058          622            1    0     95   29   95          6.815714    0   \n",
       "335059          665            0   25     90   37   90          6.840617    0   \n",
       "\n",
       "        OrigLoanTerm  NumBorrowers  MonthsInRepayment  CreditRange  LTV_range  \\\n",
       "0                360             2                 52            4          2   \n",
       "1                360             1                144            4          2   \n",
       "2                360             2                 67            4          2   \n",
       "3                360             2                 35            4          2   \n",
       "4                360             2                 54            4          2   \n",
       "...              ...           ...                ...          ...        ...   \n",
       "335055           360             1                 64            1          2   \n",
       "335056           360             2                190            1          2   \n",
       "335057           360             2                119            2          1   \n",
       "335058           360             1                 49            1          2   \n",
       "335059           360             2                 61            2          2   \n",
       "\n",
       "        Repay_range  \n",
       "0                 2  \n",
       "1                 3  \n",
       "2                 2  \n",
       "3                 0  \n",
       "4                 2  \n",
       "...             ...  \n",
       "335055            2  \n",
       "335056            4  \n",
       "335057            3  \n",
       "335058            2  \n",
       "335059            2  \n",
       "\n",
       "[335060 rows x 14 columns]"
      ]
     },
     "execution_count": 73,
     "metadata": {},
     "output_type": "execute_result"
    }
   ],
   "source": [
    "x_smote"
   ]
  },
  {
   "cell_type": "code",
   "execution_count": 74,
   "metadata": {
    "colab": {
     "base_uri": "https://localhost:8080/"
    },
    "id": "5LWVokc71aOt",
    "outputId": "99b01713-d7b2-47c2-f0a2-62ffed3b992b"
   },
   "outputs": [
    {
     "data": {
      "text/plain": [
       "(335060, 14)"
      ]
     },
     "execution_count": 74,
     "metadata": {},
     "output_type": "execute_result"
    }
   ],
   "source": [
    "x_smote.shape"
   ]
  },
  {
   "cell_type": "code",
   "execution_count": 75,
   "metadata": {
    "id": "Jz9wD2io1erD"
   },
   "outputs": [],
   "source": [
    "#Now Concat the x_smote and y_smote and make balance dataframe\n",
    "df_smote_over = pd.concat([pd.DataFrame(x_smote,columns=['CreditScore','IsFirstTime','MIP','OCLTV','DTI','LTV','OrigInterestRate','PPM','OrigLoanTerm','NumBorrowers','MonthsInRepayment','CreditRange','LTV_range','Repay_range']), pd.DataFrame(y_smote, columns=['EverDelinquent'])], axis=1)"
   ]
  },
  {
   "cell_type": "markdown",
   "metadata": {
    "id": "TbmFt31bCU7n"
   },
   "source": [
    "###### #To Converting everyColumn of balance dataset in int datatype\n",
    "df_smote_over=df_smote_over.astype(int)"
   ]
  },
  {
   "cell_type": "code",
   "execution_count": 76,
   "metadata": {
    "id": "Es0SKIJKCxzj"
   },
   "outputs": [],
   "source": [
    "#converting EveryColumn into int datatype except \"OrigInterestRate\"\n",
    "for x in df_smote_over.columns:\n",
    "  if(x==\"OrigInterestRate\"):\n",
    "    continue\n",
    "  df_smote_over[x]=df_smote_over[x].astype(int)"
   ]
  },
  {
   "cell_type": "code",
   "execution_count": 77,
   "metadata": {
    "colab": {
     "base_uri": "https://localhost:8080/",
     "height": 223
    },
    "id": "sbaYLlYJ2zdk",
    "outputId": "016a2758-bf1b-426e-b29d-b7f58250eb83"
   },
   "outputs": [
    {
     "data": {
      "text/html": [
       "<div>\n",
       "<style scoped>\n",
       "    .dataframe tbody tr th:only-of-type {\n",
       "        vertical-align: middle;\n",
       "    }\n",
       "\n",
       "    .dataframe tbody tr th {\n",
       "        vertical-align: top;\n",
       "    }\n",
       "\n",
       "    .dataframe thead th {\n",
       "        text-align: right;\n",
       "    }\n",
       "</style>\n",
       "<table border=\"1\" class=\"dataframe\">\n",
       "  <thead>\n",
       "    <tr style=\"text-align: right;\">\n",
       "      <th></th>\n",
       "      <th>CreditScore</th>\n",
       "      <th>IsFirstTime</th>\n",
       "      <th>MIP</th>\n",
       "      <th>OCLTV</th>\n",
       "      <th>DTI</th>\n",
       "      <th>LTV</th>\n",
       "      <th>OrigInterestRate</th>\n",
       "      <th>PPM</th>\n",
       "      <th>OrigLoanTerm</th>\n",
       "      <th>NumBorrowers</th>\n",
       "      <th>MonthsInRepayment</th>\n",
       "      <th>CreditRange</th>\n",
       "      <th>LTV_range</th>\n",
       "      <th>Repay_range</th>\n",
       "      <th>EverDelinquent</th>\n",
       "    </tr>\n",
       "  </thead>\n",
       "  <tbody>\n",
       "    <tr>\n",
       "      <th>0</th>\n",
       "      <td>850</td>\n",
       "      <td>0</td>\n",
       "      <td>25</td>\n",
       "      <td>89</td>\n",
       "      <td>27</td>\n",
       "      <td>89</td>\n",
       "      <td>6.750</td>\n",
       "      <td>0</td>\n",
       "      <td>360</td>\n",
       "      <td>2</td>\n",
       "      <td>52</td>\n",
       "      <td>4</td>\n",
       "      <td>2</td>\n",
       "      <td>2</td>\n",
       "      <td>0</td>\n",
       "    </tr>\n",
       "    <tr>\n",
       "      <th>1</th>\n",
       "      <td>850</td>\n",
       "      <td>0</td>\n",
       "      <td>0</td>\n",
       "      <td>73</td>\n",
       "      <td>17</td>\n",
       "      <td>73</td>\n",
       "      <td>6.500</td>\n",
       "      <td>0</td>\n",
       "      <td>360</td>\n",
       "      <td>1</td>\n",
       "      <td>144</td>\n",
       "      <td>4</td>\n",
       "      <td>2</td>\n",
       "      <td>3</td>\n",
       "      <td>0</td>\n",
       "    </tr>\n",
       "    <tr>\n",
       "      <th>2</th>\n",
       "      <td>850</td>\n",
       "      <td>0</td>\n",
       "      <td>0</td>\n",
       "      <td>75</td>\n",
       "      <td>16</td>\n",
       "      <td>75</td>\n",
       "      <td>6.875</td>\n",
       "      <td>0</td>\n",
       "      <td>360</td>\n",
       "      <td>2</td>\n",
       "      <td>67</td>\n",
       "      <td>4</td>\n",
       "      <td>2</td>\n",
       "      <td>2</td>\n",
       "      <td>0</td>\n",
       "    </tr>\n",
       "    <tr>\n",
       "      <th>3</th>\n",
       "      <td>850</td>\n",
       "      <td>0</td>\n",
       "      <td>0</td>\n",
       "      <td>76</td>\n",
       "      <td>14</td>\n",
       "      <td>76</td>\n",
       "      <td>6.875</td>\n",
       "      <td>0</td>\n",
       "      <td>360</td>\n",
       "      <td>2</td>\n",
       "      <td>35</td>\n",
       "      <td>4</td>\n",
       "      <td>2</td>\n",
       "      <td>0</td>\n",
       "      <td>0</td>\n",
       "    </tr>\n",
       "    <tr>\n",
       "      <th>4</th>\n",
       "      <td>850</td>\n",
       "      <td>0</td>\n",
       "      <td>0</td>\n",
       "      <td>78</td>\n",
       "      <td>18</td>\n",
       "      <td>78</td>\n",
       "      <td>7.125</td>\n",
       "      <td>0</td>\n",
       "      <td>360</td>\n",
       "      <td>2</td>\n",
       "      <td>54</td>\n",
       "      <td>4</td>\n",
       "      <td>2</td>\n",
       "      <td>2</td>\n",
       "      <td>0</td>\n",
       "    </tr>\n",
       "  </tbody>\n",
       "</table>\n",
       "</div>"
      ],
      "text/plain": [
       "   CreditScore  IsFirstTime  MIP  OCLTV  DTI  LTV  OrigInterestRate  PPM  \\\n",
       "0          850            0   25     89   27   89             6.750    0   \n",
       "1          850            0    0     73   17   73             6.500    0   \n",
       "2          850            0    0     75   16   75             6.875    0   \n",
       "3          850            0    0     76   14   76             6.875    0   \n",
       "4          850            0    0     78   18   78             7.125    0   \n",
       "\n",
       "   OrigLoanTerm  NumBorrowers  MonthsInRepayment  CreditRange  LTV_range  \\\n",
       "0           360             2                 52            4          2   \n",
       "1           360             1                144            4          2   \n",
       "2           360             2                 67            4          2   \n",
       "3           360             2                 35            4          2   \n",
       "4           360             2                 54            4          2   \n",
       "\n",
       "   Repay_range  EverDelinquent  \n",
       "0            2               0  \n",
       "1            3               0  \n",
       "2            2               0  \n",
       "3            0               0  \n",
       "4            2               0  "
      ]
     },
     "execution_count": 77,
     "metadata": {},
     "output_type": "execute_result"
    }
   ],
   "source": [
    "df_smote_over.head()"
   ]
  },
  {
   "cell_type": "code",
   "execution_count": 78,
   "metadata": {
    "colab": {
     "base_uri": "https://localhost:8080/",
     "height": 279
    },
    "id": "vcnmFR8L3Lf4",
    "outputId": "7fe21608-bda3-4b3b-8ba4-78269fd61ffd"
   },
   "outputs": [
    {
     "data": {
      "image/png": "[encoded data removed]",
      "text/plain": [
       "<Figure size 432x288 with 1 Axes>"
      ]
     },
     "metadata": {
      "needs_background": "light"
     },
     "output_type": "display_data"
    }
   ],
   "source": [
    "# visualize the target variable\n",
    "g = sns.countplot(df_smote_over['EverDelinquent'])\n",
    "g.set_xticklabels(['0','1'])\n",
    "plt.show()"
   ]
  },
  {
   "cell_type": "markdown",
   "metadata": {
    "id": "WvVonRK8hQEL"
   },
   "source": [
    "Now the data is balanced."
   ]
  },
  {
   "cell_type": "code",
   "execution_count": 79,
   "metadata": {
    "colab": {
     "base_uri": "https://localhost:8080/"
    },
    "id": "f-dTEBXD3ZuB",
    "outputId": "8f7401b6-ca42-4d75-cf20-96594709e166"
   },
   "outputs": [
    {
     "name": "stdout",
     "output_type": "stream",
     "text": [
      "<class 'pandas.core.frame.DataFrame'>\n",
      "RangeIndex: 335060 entries, 0 to 335059\n",
      "Data columns (total 15 columns):\n",
      " #   Column             Non-Null Count   Dtype  \n",
      "---  ------             --------------   -----  \n",
      " 0   CreditScore        335060 non-null  int32  \n",
      " 1   IsFirstTime        335060 non-null  int32  \n",
      " 2   MIP                335060 non-null  int32  \n",
      " 3   OCLTV              335060 non-null  int32  \n",
      " 4   DTI                335060 non-null  int32  \n",
      " 5   LTV                335060 non-null  int32  \n",
      " 6   OrigInterestRate   335060 non-null  float64\n",
      " 7   PPM                335060 non-null  int32  \n",
      " 8   OrigLoanTerm       335060 non-null  int32  \n",
      " 9   NumBorrowers       335060 non-null  int32  \n",
      " 10  MonthsInRepayment  335060 non-null  int32  \n",
      " 11  CreditRange        335060 non-null  int32  \n",
      " 12  LTV_range          335060 non-null  int32  \n",
      " 13  Repay_range        335060 non-null  int32  \n",
      " 14  EverDelinquent     335060 non-null  int32  \n",
      "dtypes: float64(1), int32(14)\n",
      "memory usage: 20.5 MB\n"
     ]
    }
   ],
   "source": [
    "#Final check our dataset \n",
    "df_smote_over.info()"
   ]
  },
  {
   "cell_type": "code",
   "execution_count": 80,
   "metadata": {
    "colab": {
     "base_uri": "https://localhost:8080/",
     "height": 437
    },
    "id": "unLbweu24dOe",
    "outputId": "8a7c8e33-2509-4884-b317-0fa0348eb841"
   },
   "outputs": [
    {
     "data": {
      "text/html": [
       "<div>\n",
       "<style scoped>\n",
       "    .dataframe tbody tr th:only-of-type {\n",
       "        vertical-align: middle;\n",
       "    }\n",
       "\n",
       "    .dataframe tbody tr th {\n",
       "        vertical-align: top;\n",
       "    }\n",
       "\n",
       "    .dataframe thead th {\n",
       "        text-align: right;\n",
       "    }\n",
       "</style>\n",
       "<table border=\"1\" class=\"dataframe\">\n",
       "  <thead>\n",
       "    <tr style=\"text-align: right;\">\n",
       "      <th></th>\n",
       "      <th>CreditScore</th>\n",
       "      <th>IsFirstTime</th>\n",
       "      <th>MIP</th>\n",
       "      <th>OCLTV</th>\n",
       "      <th>DTI</th>\n",
       "      <th>LTV</th>\n",
       "      <th>OrigInterestRate</th>\n",
       "      <th>PPM</th>\n",
       "      <th>OrigLoanTerm</th>\n",
       "      <th>NumBorrowers</th>\n",
       "      <th>MonthsInRepayment</th>\n",
       "      <th>CreditRange</th>\n",
       "      <th>LTV_range</th>\n",
       "      <th>Repay_range</th>\n",
       "      <th>EverDelinquent</th>\n",
       "    </tr>\n",
       "  </thead>\n",
       "  <tbody>\n",
       "    <tr>\n",
       "      <th>0</th>\n",
       "      <td>False</td>\n",
       "      <td>False</td>\n",
       "      <td>False</td>\n",
       "      <td>False</td>\n",
       "      <td>False</td>\n",
       "      <td>False</td>\n",
       "      <td>False</td>\n",
       "      <td>False</td>\n",
       "      <td>False</td>\n",
       "      <td>False</td>\n",
       "      <td>False</td>\n",
       "      <td>False</td>\n",
       "      <td>False</td>\n",
       "      <td>False</td>\n",
       "      <td>False</td>\n",
       "    </tr>\n",
       "    <tr>\n",
       "      <th>1</th>\n",
       "      <td>False</td>\n",
       "      <td>False</td>\n",
       "      <td>False</td>\n",
       "      <td>False</td>\n",
       "      <td>False</td>\n",
       "      <td>False</td>\n",
       "      <td>False</td>\n",
       "      <td>False</td>\n",
       "      <td>False</td>\n",
       "      <td>False</td>\n",
       "      <td>False</td>\n",
       "      <td>False</td>\n",
       "      <td>False</td>\n",
       "      <td>False</td>\n",
       "      <td>False</td>\n",
       "    </tr>\n",
       "    <tr>\n",
       "      <th>2</th>\n",
       "      <td>False</td>\n",
       "      <td>False</td>\n",
       "      <td>False</td>\n",
       "      <td>False</td>\n",
       "      <td>False</td>\n",
       "      <td>False</td>\n",
       "      <td>False</td>\n",
       "      <td>False</td>\n",
       "      <td>False</td>\n",
       "      <td>False</td>\n",
       "      <td>False</td>\n",
       "      <td>False</td>\n",
       "      <td>False</td>\n",
       "      <td>False</td>\n",
       "      <td>False</td>\n",
       "    </tr>\n",
       "    <tr>\n",
       "      <th>3</th>\n",
       "      <td>False</td>\n",
       "      <td>False</td>\n",
       "      <td>False</td>\n",
       "      <td>False</td>\n",
       "      <td>False</td>\n",
       "      <td>False</td>\n",
       "      <td>False</td>\n",
       "      <td>False</td>\n",
       "      <td>False</td>\n",
       "      <td>False</td>\n",
       "      <td>False</td>\n",
       "      <td>False</td>\n",
       "      <td>False</td>\n",
       "      <td>False</td>\n",
       "      <td>False</td>\n",
       "    </tr>\n",
       "    <tr>\n",
       "      <th>4</th>\n",
       "      <td>False</td>\n",
       "      <td>False</td>\n",
       "      <td>False</td>\n",
       "      <td>False</td>\n",
       "      <td>False</td>\n",
       "      <td>False</td>\n",
       "      <td>False</td>\n",
       "      <td>False</td>\n",
       "      <td>False</td>\n",
       "      <td>False</td>\n",
       "      <td>False</td>\n",
       "      <td>False</td>\n",
       "      <td>False</td>\n",
       "      <td>False</td>\n",
       "      <td>False</td>\n",
       "    </tr>\n",
       "    <tr>\n",
       "      <th>...</th>\n",
       "      <td>...</td>\n",
       "      <td>...</td>\n",
       "      <td>...</td>\n",
       "      <td>...</td>\n",
       "      <td>...</td>\n",
       "      <td>...</td>\n",
       "      <td>...</td>\n",
       "      <td>...</td>\n",
       "      <td>...</td>\n",
       "      <td>...</td>\n",
       "      <td>...</td>\n",
       "      <td>...</td>\n",
       "      <td>...</td>\n",
       "      <td>...</td>\n",
       "      <td>...</td>\n",
       "    </tr>\n",
       "    <tr>\n",
       "      <th>335055</th>\n",
       "      <td>False</td>\n",
       "      <td>False</td>\n",
       "      <td>False</td>\n",
       "      <td>False</td>\n",
       "      <td>False</td>\n",
       "      <td>False</td>\n",
       "      <td>False</td>\n",
       "      <td>False</td>\n",
       "      <td>False</td>\n",
       "      <td>False</td>\n",
       "      <td>False</td>\n",
       "      <td>False</td>\n",
       "      <td>False</td>\n",
       "      <td>False</td>\n",
       "      <td>False</td>\n",
       "    </tr>\n",
       "    <tr>\n",
       "      <th>335056</th>\n",
       "      <td>False</td>\n",
       "      <td>False</td>\n",
       "      <td>False</td>\n",
       "      <td>False</td>\n",
       "      <td>False</td>\n",
       "      <td>False</td>\n",
       "      <td>False</td>\n",
       "      <td>False</td>\n",
       "      <td>False</td>\n",
       "      <td>False</td>\n",
       "      <td>False</td>\n",
       "      <td>False</td>\n",
       "      <td>False</td>\n",
       "      <td>False</td>\n",
       "      <td>False</td>\n",
       "    </tr>\n",
       "    <tr>\n",
       "      <th>335057</th>\n",
       "      <td>False</td>\n",
       "      <td>False</td>\n",
       "      <td>False</td>\n",
       "      <td>False</td>\n",
       "      <td>False</td>\n",
       "      <td>False</td>\n",
       "      <td>False</td>\n",
       "      <td>False</td>\n",
       "      <td>False</td>\n",
       "      <td>False</td>\n",
       "      <td>False</td>\n",
       "      <td>False</td>\n",
       "      <td>False</td>\n",
       "      <td>False</td>\n",
       "      <td>False</td>\n",
       "    </tr>\n",
       "    <tr>\n",
       "      <th>335058</th>\n",
       "      <td>False</td>\n",
       "      <td>False</td>\n",
       "      <td>False</td>\n",
       "      <td>False</td>\n",
       "      <td>False</td>\n",
       "      <td>False</td>\n",
       "      <td>False</td>\n",
       "      <td>False</td>\n",
       "      <td>False</td>\n",
       "      <td>False</td>\n",
       "      <td>False</td>\n",
       "      <td>False</td>\n",
       "      <td>False</td>\n",
       "      <td>False</td>\n",
       "      <td>False</td>\n",
       "    </tr>\n",
       "    <tr>\n",
       "      <th>335059</th>\n",
       "      <td>False</td>\n",
       "      <td>False</td>\n",
       "      <td>False</td>\n",
       "      <td>False</td>\n",
       "      <td>False</td>\n",
       "      <td>False</td>\n",
       "      <td>False</td>\n",
       "      <td>False</td>\n",
       "      <td>False</td>\n",
       "      <td>False</td>\n",
       "      <td>False</td>\n",
       "      <td>False</td>\n",
       "      <td>False</td>\n",
       "      <td>False</td>\n",
       "      <td>False</td>\n",
       "    </tr>\n",
       "  </tbody>\n",
       "</table>\n",
       "<p>335060 rows × 15 columns</p>\n",
       "</div>"
      ],
      "text/plain": [
       "        CreditScore  IsFirstTime    MIP  OCLTV    DTI    LTV  \\\n",
       "0             False        False  False  False  False  False   \n",
       "1             False        False  False  False  False  False   \n",
       "2             False        False  False  False  False  False   \n",
       "3             False        False  False  False  False  False   \n",
       "4             False        False  False  False  False  False   \n",
       "...             ...          ...    ...    ...    ...    ...   \n",
       "335055        False        False  False  False  False  False   \n",
       "335056        False        False  False  False  False  False   \n",
       "335057        False        False  False  False  False  False   \n",
       "335058        False        False  False  False  False  False   \n",
       "335059        False        False  False  False  False  False   \n",
       "\n",
       "        OrigInterestRate    PPM  OrigLoanTerm  NumBorrowers  \\\n",
       "0                  False  False         False         False   \n",
       "1                  False  False         False         False   \n",
       "2                  False  False         False         False   \n",
       "3                  False  False         False         False   \n",
       "4                  False  False         False         False   \n",
       "...                  ...    ...           ...           ...   \n",
       "335055             False  False         False         False   \n",
       "335056             False  False         False         False   \n",
       "335057             False  False         False         False   \n",
       "335058             False  False         False         False   \n",
       "335059             False  False         False         False   \n",
       "\n",
       "        MonthsInRepayment  CreditRange  LTV_range  Repay_range  EverDelinquent  \n",
       "0                   False        False      False        False           False  \n",
       "1                   False        False      False        False           False  \n",
       "2                   False        False      False        False           False  \n",
       "3                   False        False      False        False           False  \n",
       "4                   False        False      False        False           False  \n",
       "...                   ...          ...        ...          ...             ...  \n",
       "335055              False        False      False        False           False  \n",
       "335056              False        False      False        False           False  \n",
       "335057              False        False      False        False           False  \n",
       "335058              False        False      False        False           False  \n",
       "335059              False        False      False        False           False  \n",
       "\n",
       "[335060 rows x 15 columns]"
      ]
     },
     "execution_count": 80,
     "metadata": {},
     "output_type": "execute_result"
    }
   ],
   "source": [
    "df_smote_over.isnull()"
   ]
  },
  {
   "cell_type": "markdown",
   "metadata": {
    "id": "Q-qymGDTs-Ib"
   },
   "source": [
    "Now Our dataset is balanced and Every column converted into a numeric value in our 'df_smote_over' dataframe,Now it's time to implement ML models."
   ]
  },
  {
   "cell_type": "markdown",
   "metadata": {
    "id": "Q4mueDQiJUYH"
   },
   "source": [
    "# **Model Evaluation**"
   ]
  },
  {
   "cell_type": "markdown",
   "metadata": {
    "id": "bzxQE3KCJk_1"
   },
   "source": [
    "**Logistic Regression**"
   ]
  },
  {
   "cell_type": "code",
   "execution_count": 81,
   "metadata": {
    "id": "LshDVDcd43O2"
   },
   "outputs": [],
   "source": [
    "#Input and target variables\n",
    "X=df_smote_over.drop('EverDelinquent',axis=1)\n",
    "Y=df_smote_over.EverDelinquent"
   ]
  },
  {
   "cell_type": "code",
   "execution_count": 82,
   "metadata": {
    "colab": {
     "base_uri": "https://localhost:8080/"
    },
    "id": "xNAqmC1Z5Pyc",
    "outputId": "57bdca6f-6959-4fb2-e962-0be209c4e0cc"
   },
   "outputs": [
    {
     "name": "stdout",
     "output_type": "stream",
     "text": [
      "(335060, 14)\n",
      "(335060,)\n"
     ]
    }
   ],
   "source": [
    "print(X.shape)\n",
    "print(Y.shape)"
   ]
  },
  {
   "cell_type": "code",
   "execution_count": 83,
   "metadata": {
    "id": "bIw35kKB4_Gs"
   },
   "outputs": [],
   "source": [
    "#Training and test dataset split 80% training dataset and 20% testing dataset\n",
    "from sklearn.model_selection import train_test_split\n",
    "x_train,x_test,y_train,y_test=train_test_split(X,Y,test_size=0.2,random_state=27)"
   ]
  },
  {
   "cell_type": "code",
   "execution_count": 84,
   "metadata": {
    "id": "86dROcdwSJ8x"
   },
   "outputs": [],
   "source": [
    "from sklearn.preprocessing import MinMaxScaler\n",
    "scaler = MinMaxScaler()\n",
    "scaler.fit(x_train)\n",
    "x_train=scaler.transform(x_train)\n",
    "scaler.fit(x_test)\n",
    "x_test=scaler.transform(x_test)"
   ]
  },
  {
   "cell_type": "code",
   "execution_count": 85,
   "metadata": {
    "colab": {
     "base_uri": "https://localhost:8080/"
    },
    "id": "8jDZCsCk5fpI",
    "outputId": "964a5c0e-5fc0-404b-fd7d-b9faa8bf8817"
   },
   "outputs": [
    {
     "name": "stdout",
     "output_type": "stream",
     "text": [
      "(268048, 14)\n",
      "(67012, 14)\n"
     ]
    }
   ],
   "source": [
    "print(x_train.shape)\n",
    "print(x_test.shape)"
   ]
  },
  {
   "cell_type": "code",
   "execution_count": 86,
   "metadata": {
    "colab": {
     "base_uri": "https://localhost:8080/"
    },
    "id": "LhPzryDK5mPx",
    "outputId": "2588532d-9223-4dd4-e98a-0d9d56858f7f"
   },
   "outputs": [
    {
     "name": "stdout",
     "output_type": "stream",
     "text": [
      "(268048,)\n",
      "(67012,)\n"
     ]
    }
   ],
   "source": [
    "print(y_train.shape)\n",
    "print(y_test.shape)"
   ]
  },
  {
   "cell_type": "code",
   "execution_count": 87,
   "metadata": {
    "colab": {
     "base_uri": "https://localhost:8080/"
    },
    "id": "DFJKjhk-0m1V",
    "outputId": "b7dd3ef2-edf3-42cd-f2eb-da2ed2984223"
   },
   "outputs": [
    {
     "data": {
      "text/plain": [
       "LogisticRegression()"
      ]
     },
     "execution_count": 87,
     "metadata": {},
     "output_type": "execute_result"
    }
   ],
   "source": [
    "#train the model on the training set\n",
    "from sklearn.linear_model import LogisticRegression\n",
    "logreg = LogisticRegression()\n",
    "logreg.fit(x_train, y_train)"
   ]
  },
  {
   "cell_type": "code",
   "execution_count": 88,
   "metadata": {
    "colab": {
     "base_uri": "https://localhost:8080/"
    },
    "id": "EDgAanLhEdRv",
    "outputId": "a980ec71-a3b0-4659-9650-253c8d4b171a"
   },
   "outputs": [
    {
     "name": "stdout",
     "output_type": "stream",
     "text": [
      "0.7140512147078135\n"
     ]
    }
   ],
   "source": [
    "#make predictions on the testing set\n",
    "y_pred = logreg.predict(x_test)\n",
    "\n",
    "# compute classification accuracy for the logistic regression model\n",
    "# compare actual response values (y_test) with predicted response values (y_pred)\n",
    "from sklearn import metrics\n",
    "print(metrics.accuracy_score(y_test, y_pred))"
   ]
  },
  {
   "cell_type": "code",
   "execution_count": 89,
   "metadata": {
    "colab": {
     "base_uri": "https://localhost:8080/"
    },
    "id": "VxTI-u6k9PAe",
    "outputId": "4abb9631-635f-4a0f-d0d5-1091b690edf5"
   },
   "outputs": [
    {
     "name": "stdout",
     "output_type": "stream",
     "text": [
      "Confusion Matrix\n"
     ]
    },
    {
     "data": {
      "text/plain": [
       "array([[24574,  8843],\n",
       "       [10319, 23276]], dtype=int64)"
      ]
     },
     "execution_count": 89,
     "metadata": {},
     "output_type": "execute_result"
    }
   ],
   "source": [
    "from sklearn.metrics import confusion_matrix\n",
    "print(\"Confusion Matrix\")\n",
    "confusion_matrix(y_test,y_pred)"
   ]
  },
  {
   "cell_type": "code",
   "execution_count": 90,
   "metadata": {
    "colab": {
     "base_uri": "https://localhost:8080/",
     "height": 309
    },
    "id": "xBUsxozD6SBk",
    "outputId": "14fd0b5e-4e65-4add-cb13-07bcaa9f53a1"
   },
   "outputs": [
    {
     "data": {
      "image/png": "[encoded data removed]",
      "text/plain": [
       "<Figure size 432x288 with 1 Axes>"
      ]
     },
     "metadata": {
      "needs_background": "light"
     },
     "output_type": "display_data"
    }
   ],
   "source": [
    "from sklearn.metrics import roc_curve\n",
    "y_pred_prob = logreg.predict_proba(x_test)[:,1]\n",
    "#False positive Rate,True positive Rate\n",
    "fpr, tpr, thresholds = roc_curve(y_test, y_pred_prob)\n",
    "plt.plot([0,1],[0,1],'k--')\n",
    "plt.plot(fpr,tpr, label='lg')\n",
    "plt.xlabel('fpr',fontsize=20)\n",
    "plt.ylabel('tpr',fontsize=20)\n",
    "plt.title('Logistic Regression ROC curve',fontsize=20)\n",
    "plt.show()"
   ]
  },
  {
   "cell_type": "code",
   "execution_count": 91,
   "metadata": {
    "colab": {
     "base_uri": "https://localhost:8080/"
    },
    "id": "INCYrPRt9F3q",
    "outputId": "4edc1d03-b3da-45aa-cb2c-8df7a6f5a358"
   },
   "outputs": [
    {
     "data": {
      "text/plain": [
       "0.7861719098754639"
      ]
     },
     "execution_count": 91,
     "metadata": {},
     "output_type": "execute_result"
    }
   ],
   "source": [
    "#Area under ROC curve\n",
    "from sklearn.metrics import roc_auc_score\n",
    "roc_auc_score(y_test,y_pred_prob)"
   ]
  },
  {
   "cell_type": "markdown",
   "metadata": {
    "id": "yp0CfCefFgCy"
   },
   "source": [
    "**KNN**"
   ]
  },
  {
   "cell_type": "code",
   "execution_count": null,
   "metadata": {
    "id": "g8pFXhdmTHxw"
   },
   "outputs": [],
   "source": [
    "#Input and target variables\n",
    "X_knn=df_smote_over.drop('EverDelinquent',axis=1)\n",
    "Y_knn=df_smote_over.EverDelinquent"
   ]
  },
  {
   "cell_type": "code",
   "execution_count": null,
   "metadata": {
    "id": "Nc3AuA12TS-t"
   },
   "outputs": [],
   "source": [
    "#Training and test dataset split 80% training dataset and 20% testing dataset\n",
    "from sklearn.model_selection import train_test_split\n",
    "x_train,x_test,y_train,y_test=train_test_split(X_knn,Y_knn,train_size=0.8,random_state=2)"
   ]
  },
  {
   "cell_type": "markdown",
   "metadata": {
    "id": "HXOIgEgDStk9"
   },
   "source": [
    "**Find best value of K**"
   ]
  },
  {
   "cell_type": "code",
   "execution_count": null,
   "metadata": {
    "colab": {
     "base_uri": "https://localhost:8080/",
     "height": 296
    },
    "id": "YlPMO_6USn-Z",
    "outputId": "2682f220-49c6-45b8-8a43-ad35a99aaf0a"
   },
   "outputs": [],
   "source": [
    "from sklearn.neighbors import KNeighborsClassifier\n",
    "\n",
    "error1= []\n",
    "error2= []\n",
    "for k in range(1,26):\n",
    "    knn= KNeighborsClassifier(n_neighbors=k)\n",
    "    knn.fit(x_train,y_train)\n",
    "    y_pred1= knn.predict(x_train)\n",
    "    error1.append(np.mean(y_train!= y_pred1))\n",
    "    y_pred2= knn.predict(x_test)\n",
    "    error2.append(np.mean(y_test!= y_pred2))\n",
    "# plt.figure(figsize(10,5))\n",
    "plt.plot(range(1,26),error1,label=\"train\")\n",
    "plt.plot(range(1,26),error2,label=\"test\")\n",
    "plt.xlabel('k Value')\n",
    "plt.ylabel('Error')\n",
    "plt.legend()"
   ]
  },
  {
   "cell_type": "markdown",
   "metadata": {
    "id": "1AwLvOIB606b"
   },
   "source": [
    "we can minimum error in both testing and training dataset at k=1."
   ]
  },
  {
   "cell_type": "markdown",
   "metadata": {
    "id": "bhvOJfl95vR_"
   },
   "source": [
    "We can do data scaling as well for scale our data like Standard Scaler ,Max-Min Scaler and Robust Scaling in KNN"
   ]
  },
  {
   "cell_type": "code",
   "execution_count": null,
   "metadata": {
    "colab": {
     "base_uri": "https://localhost:8080/"
    },
    "id": "4EBytMGuGBkU",
    "outputId": "7e631574-d9a1-478b-96a0-9d88e564b7bb"
   },
   "outputs": [],
   "source": [
    "#from sklearn.neighbors import KNeighborsClassifier\n",
    "from sklearn.metrics import confusion_matrix\n",
    "#KNN with K=1\n",
    "knn = KNeighborsClassifier(n_neighbors=1)\n",
    "knn.fit(x_train, y_train)\n",
    "y_pred = knn.predict(x_test)\n",
    "print(\"Acuracy Score\")\n",
    "print(metrics.accuracy_score(y_test, y_pred))\n",
    "#Check performance using roc\n",
    "print(\"ROC Score\")\n",
    "print(metrics.roc_auc_score(y_test, y_pred))\n",
    "print(\"Confusion Matrix\")\n",
    "confusion_matrix(y_test,y_pred)"
   ]
  },
  {
   "cell_type": "code",
   "execution_count": null,
   "metadata": {
    "colab": {
     "base_uri": "https://localhost:8080/",
     "height": 172
    },
    "id": "nnYA6SHw5Mq9",
    "outputId": "3f34b816-339c-43ae-916a-7d0d27ee91d2"
   },
   "outputs": [],
   "source": [
    "#Confusion matrix can also be obtained using crosstab method of pandas.\n",
    "pd.crosstab(y_test, y_pred, rownames=['True'], colnames=['Predicted'], margins=True)"
   ]
  },
  {
   "cell_type": "code",
   "execution_count": null,
   "metadata": {
    "colab": {
     "base_uri": "https://localhost:8080/"
    },
    "id": "0XgwHc3T2DQf",
    "outputId": "535d4917-4c68-4299-b1c3-fab18549cfc3"
   },
   "outputs": [],
   "source": [
    "#Classification Report\n",
    "from sklearn.metrics import classification_report\n",
    "print(classification_report(y_test,y_pred))"
   ]
  },
  {
   "cell_type": "markdown",
   "metadata": {
    "id": "bOhRydU-2ncW"
   },
   "source": [
    "**ROC CURVE for k=1**"
   ]
  },
  {
   "cell_type": "code",
   "execution_count": null,
   "metadata": {
    "colab": {
     "base_uri": "https://localhost:8080/",
     "height": 295
    },
    "id": "L4h9wfjX2s1n",
    "outputId": "7c3fb771-2a65-469f-d584-c3fb1065c3f5"
   },
   "outputs": [],
   "source": [
    "from sklearn.metrics import roc_curve\n",
    "y_pred_proba = knn.predict_proba(x_test)[:,1]\n",
    "#False positive Rate,True positive Rate\n",
    "fpr, tpr, thresholds = roc_curve(y_test, y_pred_proba)\n",
    "plt.plot([0,1],[0,1],'k--')\n",
    "plt.plot(fpr,tpr, label='Knn')\n",
    "plt.xlabel('fpr')\n",
    "plt.ylabel('tpr')\n",
    "plt.title('Knn(n_neighbors=1) ROC curve')\n",
    "plt.show()"
   ]
  },
  {
   "cell_type": "code",
   "execution_count": null,
   "metadata": {
    "colab": {
     "base_uri": "https://localhost:8080/"
    },
    "id": "a4hJ6Zz43RFa",
    "outputId": "33f74091-d45e-4e24-c514-bfc8f02e6da7"
   },
   "outputs": [],
   "source": [
    "#Area under ROC curve\n",
    "from sklearn.metrics import roc_auc_score\n",
    "roc_auc_score(y_test,y_pred_proba)"
   ]
  },
  {
   "cell_type": "markdown",
   "metadata": {
    "id": "6w3tut835gKc"
   },
   "source": [
    "**KNN with K=5**"
   ]
  },
  {
   "cell_type": "code",
   "execution_count": 95,
   "metadata": {
    "colab": {
     "base_uri": "https://localhost:8080/"
    },
    "id": "pRZsOzldFjVh",
    "outputId": "cdd4662e-f3c2-40be-e62f-146a6357539a"
   },
   "outputs": [
    {
     "name": "stdout",
     "output_type": "stream",
     "text": [
      "Acuracy Score\n",
      "0.7902763684116277\n",
      "ROC Accuracy Score\n",
      "0.7901257016767735\n",
      "Confusion Matrix\n"
     ]
    },
    {
     "data": {
      "text/plain": [
       "array([[22600, 10862],\n",
       "       [ 3192, 30358]], dtype=int64)"
      ]
     },
     "execution_count": 95,
     "metadata": {},
     "output_type": "execute_result"
    }
   ],
   "source": [
    "#KNN with K=5\n",
    "knn = KNeighborsClassifier(n_neighbors=5)\n",
    "knn.fit(x_train, y_train)\n",
    "y_pred = knn.predict(x_test)\n",
    "print(\"Acuracy Score\")\n",
    "print(metrics.accuracy_score(y_test, y_pred))\n",
    "#Check performance using roc\n",
    "print(\"ROC Accuracy Score\")\n",
    "print(metrics.roc_auc_score(y_test, y_pred))\n",
    "print(\"Confusion Matrix\")\n",
    "confusion_matrix(y_test,y_pred)"
   ]
  },
  {
   "cell_type": "code",
   "execution_count": 96,
   "metadata": {
    "colab": {
     "base_uri": "https://localhost:8080/"
    },
    "id": "EOIeSGO23v1T",
    "outputId": "7df0fb22-d0af-4785-b1b5-f1645fc7e91a"
   },
   "outputs": [
    {
     "name": "stdout",
     "output_type": "stream",
     "text": [
      "              precision    recall  f1-score   support\n",
      "\n",
      "           0       0.88      0.68      0.76     33462\n",
      "           1       0.74      0.90      0.81     33550\n",
      "\n",
      "    accuracy                           0.79     67012\n",
      "   macro avg       0.81      0.79      0.79     67012\n",
      "weighted avg       0.81      0.79      0.79     67012\n",
      "\n"
     ]
    }
   ],
   "source": [
    "#Classification Report\n",
    "from sklearn.metrics import classification_report\n",
    "print(classification_report(y_test,y_pred))"
   ]
  },
  {
   "cell_type": "code",
   "execution_count": 97,
   "metadata": {
    "colab": {
     "base_uri": "https://localhost:8080/",
     "height": 295
    },
    "id": "MEiji3VR32vY",
    "outputId": "dac4744d-99a1-477d-f54b-0d74a4f4a618"
   },
   "outputs": [
    {
     "data": {
      "image/png": "[encoded data removed]",
      "text/plain": [
       "<Figure size 432x288 with 1 Axes>"
      ]
     },
     "metadata": {
      "needs_background": "light"
     },
     "output_type": "display_data"
    }
   ],
   "source": [
    "#ROC-Curve for k=5\n",
    "from sklearn.metrics import roc_curve\n",
    "y_pred_pro = knn.predict_proba(x_test)[:,1]\n",
    "#False positive Rate,True positive Rate\n",
    "fpr, tpr, thresholds = roc_curve(y_test, y_pred_pro)\n",
    "plt.plot([0,1],[0,1],'k--')\n",
    "plt.plot(fpr,tpr, label='Knn')\n",
    "plt.xlabel('fpr')\n",
    "plt.ylabel('tpr')\n",
    "plt.title('Knn(n_neighbors=5) ROC curve')\n",
    "plt.show()"
   ]
  },
  {
   "cell_type": "code",
   "execution_count": 107,
   "metadata": {
    "colab": {
     "base_uri": "https://localhost:8080/"
    },
    "id": "UYsFaZ1T4JVy",
    "outputId": "acd021eb-74a7-4bdf-c21a-85e77c5d607e"
   },
   "outputs": [
    {
     "data": {
      "text/plain": [
       "0.869170574607351"
      ]
     },
     "execution_count": 107,
     "metadata": {},
     "output_type": "execute_result"
    }
   ],
   "source": [
    "#Area under ROC curve\n",
    "from sklearn.metrics import roc_auc_score\n",
    "roc_auc_score(y_test,y_pred_pro)"
   ]
  },
  {
   "cell_type": "code",
   "execution_count": 108,
   "metadata": {
    "colab": {
     "base_uri": "https://localhost:8080/"
    },
    "id": "z9P30QokGWEf",
    "outputId": "69c1e402-eb1a-46e7-a41c-dd225aef4e72"
   },
   "outputs": [
    {
     "name": "stdout",
     "output_type": "stream",
     "text": [
      "[0.8339849579179849, 0.821002208559661, 0.810153405360234, 0.8069450247716827, 0.7902763684116277, 0.7897093057959769, 0.7769205515430072, 0.7770100877454784, 0.7666686563600549, 0.7685936847131857, 0.7602369724825404, 0.7601175908792455, 0.75335760759267, 0.7534322210947293, 0.74776159493822, 0.7486868023637557, 0.7438220020294872, 0.7428818719035397, 0.7394645735092222, 0.7389572016952187, 0.735017608786486, 0.7341520921625977, 0.7313018563839312, 0.730212499253865, 0.7270339640661374]\n"
     ]
    }
   ],
   "source": [
    "# try K=1 through K=25 and record testing accuracy\n",
    "k_range = range(1, 26)\n",
    "\n",
    "# We can create Python dictionary using [] or dict()\n",
    "scores = []\n",
    "\n",
    "# We use a loop through the range 1 to 26\n",
    "# We append the scores in the dictionary\n",
    "for k in k_range:\n",
    "    knn = KNeighborsClassifier(n_neighbors=k)\n",
    "    knn.fit(x_train, y_train)\n",
    "    y_pred = knn.predict(x_test)\n",
    "    scores.append(metrics.accuracy_score(y_test, y_pred))\n",
    "\n",
    "print(scores)"
   ]
  },
  {
   "cell_type": "code",
   "execution_count": 109,
   "metadata": {
    "colab": {
     "base_uri": "https://localhost:8080/",
     "height": 70
    },
    "id": "0rbvMC7SHhWH",
    "outputId": "4ddd8ce8-36ff-4ea8-d362-64bb99fb3a87"
   },
   "outputs": [
    {
     "data": {
      "text/plain": [
       "Text(0, 0.5, 'Testing Accuracy')"
      ]
     },
     "execution_count": 109,
     "metadata": {},
     "output_type": "execute_result"
    },
    {
     "data": {
      "image/png": "[encoded data removed]",
      "text/plain": [
       "<Figure size 432x288 with 1 Axes>"
      ]
     },
     "metadata": {
      "needs_background": "light"
     },
     "output_type": "display_data"
    }
   ],
   "source": [
    "# import Matplotlib (scientific plotting library)\n",
    "import matplotlib.pyplot as plt\n",
    "\n",
    "# allow plots to appear within the notebook\n",
    "%matplotlib inline\n",
    "\n",
    "# plot the relationship between K and testing accuracy\n",
    "# plt.plot(x_axis, y_axis)\n",
    "plt.plot(k_range, scores)\n",
    "plt.xlabel('Value of K for KNN')\n",
    "plt.ylabel('Testing Accuracy')"
   ]
  },
  {
   "cell_type": "code",
   "execution_count": 106,
   "metadata": {},
   "outputs": [],
   "source": [
    "#Model Save"
   ]
  },
  {
   "cell_type": "code",
   "execution_count": 110,
   "metadata": {},
   "outputs": [],
   "source": [
    "import pickle\n",
    "file=open(\"knn.pkl\", 'wb')\n",
    "pickle.dump(knn, file)"
   ]
  },
  {
   "cell_type": "markdown",
   "metadata": {
    "id": "GQ5-Q19iYbtR"
   },
   "source": [
    "**AT K=1 we achieve maximum test accuracy i.e 83.5%**"
   ]
  },
  {
   "cell_type": "markdown",
   "metadata": {
    "id": "11LlPdGWYzUd"
   },
   "source": [
    "**In This Notebook we achieve max accuracy in KNN**"
   ]
  },
  {
   "cell_type": "markdown",
   "metadata": {
    "id": "rb6s0dT84qNi"
   },
   "source": [
    "##**Thank You**"
   ]
  }
 ],
 "metadata": {
  "colab": {
   "collapsed_sections": [],
   "name": "KNN_Team_A_Model_Build.ipynb",
   "provenance": []
  },
  "kernelspec": {
   "display_name": "Python 3 (ipykernel)",
   "language": "python",
   "name": "python3"
  },
  "language_info": {
   "codemirror_mode": {
    "name": "ipython",
    "version": 3
   },
   "file_extension": ".py",
   "mimetype": "text/x-python",
   "name": "python",
   "nbconvert_exporter": "python",
   "pygments_lexer": "ipython3",
   "version": "3.9.7"
  }
 },
 "nbformat": 4,
 "nbformat_minor": 1
}
